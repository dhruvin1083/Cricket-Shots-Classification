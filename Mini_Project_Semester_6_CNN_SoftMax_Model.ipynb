{
  "nbformat": 4,
  "nbformat_minor": 0,
  "metadata": {
    "colab": {
      "name": "Mini Project Semester 6 CNN-SoftMax Model.ipynb",
      "provenance": [],
      "collapsed_sections": []
    },
    "kernelspec": {
      "name": "python3",
      "display_name": "Python 3"
    },
    "language_info": {
      "name": "python"
    },
    "accelerator": "GPU"
  },
  "cells": [
    {
      "cell_type": "code",
      "metadata": {
        "id": "W8nKy5wP0Abv",
        "colab": {
          "base_uri": "https://localhost:8080/"
        },
        "outputId": "a260cbb9-9ce1-4969-a534-abd5e5fef265"
      },
      "source": [
        "from google.colab import drive\n",
        "drive.mount('/content/drive')"
      ],
      "execution_count": null,
      "outputs": [
        {
          "output_type": "stream",
          "text": [
            "Mounted at /content/drive\n"
          ],
          "name": "stdout"
        }
      ]
    },
    {
      "cell_type": "markdown",
      "metadata": {
        "id": "2szxLFp-0GZh"
      },
      "source": [
        "## CNN-SoftMax MODEL"
      ]
    },
    {
      "cell_type": "code",
      "metadata": {
        "id": "YifWzdyy9uyd"
      },
      "source": [
        "path_img = '/content/drive/MyDrive/Mini Project Semester 6/Resized Dataset 100x100'"
      ],
      "execution_count": null,
      "outputs": []
    },
    {
      "cell_type": "markdown",
      "metadata": {
        "id": "BqpUw6g70SDc"
      },
      "source": [
        "## READ THE DATASET"
      ]
    },
    {
      "cell_type": "code",
      "metadata": {
        "id": "WrCkE8ozF6ho",
        "colab": {
          "base_uri": "https://localhost:8080/"
        },
        "outputId": "98f11ad1-def0-451f-cbba-43323d7f7a0f"
      },
      "source": [
        "from skimage.io import *\n",
        "from numpy import *\n",
        "from os import listdir\n",
        "\n",
        "dataset = zeros((4200,100,100))\n",
        "labels = zeros(4200)\n",
        "i = 0\n",
        "#print(i)\n",
        "for folder in listdir(path_img):\n",
        "  #print('Reading Folder',folder)\n",
        "  for img in listdir(path_img+'/'+folder):\n",
        "    I = imread(path_img+'/'+folder+'/'+img)\n",
        "    dataset[i] = I/255\n",
        "    labels[i] = int(folder)\n",
        "    if (i+1)%100 == 0:\n",
        "      print('Read '+str(i+1)+'th image')\n",
        "    i = i+1\n",
        "#print(i)"
      ],
      "execution_count": null,
      "outputs": [
        {
          "output_type": "stream",
          "text": [
            "Read 100th image\n",
            "Read 200th image\n",
            "Read 300th image\n",
            "Read 400th image\n",
            "Read 500th image\n",
            "Read 600th image\n",
            "Read 700th image\n",
            "Read 800th image\n",
            "Read 900th image\n",
            "Read 1000th image\n",
            "Read 1100th image\n",
            "Read 1200th image\n",
            "Read 1300th image\n",
            "Read 1400th image\n",
            "Read 1500th image\n",
            "Read 1600th image\n",
            "Read 1700th image\n",
            "Read 1800th image\n",
            "Read 1900th image\n",
            "Read 2000th image\n",
            "Read 2100th image\n",
            "Read 2200th image\n",
            "Read 2300th image\n",
            "Read 2400th image\n",
            "Read 2500th image\n",
            "Read 2600th image\n",
            "Read 2700th image\n",
            "Read 2800th image\n",
            "Read 2900th image\n",
            "Read 3000th image\n",
            "Read 3100th image\n",
            "Read 3200th image\n",
            "Read 3300th image\n",
            "Read 3400th image\n",
            "Read 3500th image\n",
            "Read 3600th image\n",
            "Read 3700th image\n",
            "Read 3800th image\n",
            "Read 3900th image\n",
            "Read 4000th image\n",
            "Read 4100th image\n",
            "Read 4200th image\n"
          ],
          "name": "stdout"
        }
      ]
    },
    {
      "cell_type": "code",
      "metadata": {
        "id": "3kWnlZK5YIEK"
      },
      "source": [
        "save(path_img+'/dataset_array.npy', dataset)\n",
        "save(path_img+'/dataset_labels.npy', labels)"
      ],
      "execution_count": null,
      "outputs": []
    },
    {
      "cell_type": "markdown",
      "metadata": {
        "id": "WfA7OVUpsG-f"
      },
      "source": [
        "##LOAD THE SAVED DATASET"
      ]
    },
    {
      "cell_type": "code",
      "metadata": {
        "id": "8-1zIOq1Y4WA"
      },
      "source": [
        "from numpy import *\n",
        "\n",
        "X = reshape(load('/content/drive/MyDrive/Mini Project Semester 6/Resized Dataset 100x100/dataset_array.npy'),(4200,100,100,1))\n",
        "y = load('/content/drive/MyDrive/Mini Project Semester 6/Resized Dataset 100x100/dataset_labels.npy')"
      ],
      "execution_count": null,
      "outputs": []
    },
    {
      "cell_type": "code",
      "metadata": {
        "id": "L9R-xfO9U1dj"
      },
      "source": [
        "from sklearn.model_selection import train_test_split\n",
        "\n",
        "X_train, X_test, y_train, y_test = train_test_split(X,y,test_size = 0.2, stratify = y)\n",
        "X_train, X_val, y_train, y_val = train_test_split(X_train,y_train,test_size = 0.25, stratify = y_train)"
      ],
      "execution_count": null,
      "outputs": []
    },
    {
      "cell_type": "code",
      "metadata": {
        "id": "72y7ivOygSim"
      },
      "source": [
        "X_train = reshape(load('/content/drive/MyDrive/Mini Project Semester 6/Resized Dataset 100x100/X_train.npy'),(2520,100,100,1))\n",
        "X_val = reshape(load('/content/drive/MyDrive/Mini Project Semester 6/Resized Dataset 100x100/X_val.npy'),(840,100,100,1))\n",
        "X_test = reshape(load('/content/drive/MyDrive/Mini Project Semester 6/Resized Dataset 100x100/X_test.npy'),(840,100,100,1))"
      ],
      "execution_count": null,
      "outputs": []
    },
    {
      "cell_type": "code",
      "metadata": {
        "id": "4YQoVzxigTkP"
      },
      "source": [
        "y_train = load('/content/drive/MyDrive/Mini Project Semester 6/Resized Dataset 100x100/y_train.npy')\n",
        "y_val = load('/content/drive/MyDrive/Mini Project Semester 6/Resized Dataset 100x100/y_val.npy')\n",
        "y_test = load('/content/drive/MyDrive/Mini Project Semester 6/Resized Dataset 100x100/y_test.npy')"
      ],
      "execution_count": null,
      "outputs": []
    },
    {
      "cell_type": "code",
      "metadata": {
        "id": "cmwpQOF37Ge_"
      },
      "source": [
        "from sklearn.model_selection import StratifiedKFold\n",
        "\n",
        "X_train = concatenate((X_train,X_val))\n",
        "y_train = concatenate((y_train,y_val))\n",
        "\n",
        "skf = StratifiedKFold(n_splits = 5)\n",
        "A = skf.split(X_train, y_train)"
      ],
      "execution_count": null,
      "outputs": []
    },
    {
      "cell_type": "code",
      "metadata": {
        "colab": {
          "base_uri": "https://localhost:8080/"
        },
        "id": "71XV3C3G-U5j",
        "outputId": "bb920715-1855-42f9-e06e-b5b4bf0cec6c"
      },
      "source": [
        "X_train.shape"
      ],
      "execution_count": null,
      "outputs": [
        {
          "output_type": "execute_result",
          "data": {
            "text/plain": [
              "(3360, 100, 100, 1)"
            ]
          },
          "metadata": {
            "tags": []
          },
          "execution_count": 43
        }
      ]
    },
    {
      "cell_type": "code",
      "metadata": {
        "id": "sXq_qqar81nM"
      },
      "source": [
        "train_index = []\n",
        "test_index = []\n",
        "for tr, te in A:\n",
        "  train_index.append(tr)\n",
        "  test_index.append(te)"
      ],
      "execution_count": null,
      "outputs": []
    },
    {
      "cell_type": "code",
      "metadata": {
        "colab": {
          "base_uri": "https://localhost:8080/"
        },
        "id": "JAju45-o9-kl",
        "outputId": "3785fb32-3e40-47be-aad8-1b18c69a258b"
      },
      "source": [
        "train_index[0].shape"
      ],
      "execution_count": null,
      "outputs": [
        {
          "output_type": "execute_result",
          "data": {
            "text/plain": [
              "(2688,)"
            ]
          },
          "metadata": {
            "tags": []
          },
          "execution_count": 45
        }
      ]
    },
    {
      "cell_type": "code",
      "metadata": {
        "id": "ulYUfG6l_e5C"
      },
      "source": [
        "save(path_img+'/Trainin_Validation_Folds_train.npy', array(train_index))\n",
        "save(path_img+'/Trainin_Validation_Folds_val.npy', array(test_index))"
      ],
      "execution_count": null,
      "outputs": []
    },
    {
      "cell_type": "code",
      "metadata": {
        "id": "rwgnriapAGug"
      },
      "source": [
        "train_index = load('/content/drive/MyDrive/Mini Project Semester 6/Resized Dataset 100x100/Trainin_Validation_Folds_train.npy')\n",
        "test_index = load('/content/drive/MyDrive/Mini Project Semester 6/Resized Dataset 100x100/Trainin_Validation_Folds_val.npy')"
      ],
      "execution_count": null,
      "outputs": []
    },
    {
      "cell_type": "code",
      "metadata": {
        "colab": {
          "base_uri": "https://localhost:8080/"
        },
        "id": "zQnmXZE-Ahyy",
        "outputId": "2148225b-0d32-49d6-de5f-8adda804bedd"
      },
      "source": [
        "train_index.shape"
      ],
      "execution_count": null,
      "outputs": [
        {
          "output_type": "execute_result",
          "data": {
            "text/plain": [
              "(5, 2688)"
            ]
          },
          "metadata": {
            "tags": []
          },
          "execution_count": 48
        }
      ]
    },
    {
      "cell_type": "code",
      "metadata": {
        "id": "cMTZpAHTs20C"
      },
      "source": [
        "from tensorflow import keras\n",
        "from tensorflow.keras import datasets, layers, models\n",
        "import matplotlib.pyplot as plt\n",
        "\n",
        "model = models.Sequential()\n",
        "model.add(layers.Conv2D(16, (3, 3), activation='relu', input_shape=(100,100,1), padding = 'same'))\n",
        "model.add(layers.MaxPooling2D((2, 2)))\n",
        "model.add(layers.Dropout(0.2))\n",
        "\n",
        "model.add(layers.Conv2D(32, (3, 3), activation='relu', padding = 'same'))\n",
        "model.add(layers.MaxPooling2D((2, 2)))\n",
        "model.add(layers.Dropout(0.2))\n",
        "\n",
        "model.add(layers.Conv2D(64, (3, 3), activation='relu',padding = 'same'))\n",
        "model.add(layers.MaxPooling2D((2, 2)))\n",
        "model.add(layers.Dropout(0.2))\n",
        "\n",
        "model.add(layers.Conv2D(128, (3, 3), activation='relu',padding = 'same'))\n",
        "model.add(layers.MaxPooling2D((2, 2)))\n",
        "model.add(layers.Dropout(0.2))\n",
        "\n",
        "model.add(layers.Conv2D(256, (3, 3), activation='relu',padding = 'same'))\n",
        "model.add(layers.MaxPooling2D((2, 2)))\n",
        "model.add(layers.Dropout(0.2))\n",
        "\n",
        "model.add(layers.Flatten())\n",
        "\n",
        "model.add(layers.Dense(256, activation='relu'))\n",
        "model.add(layers.Dropout(0.2))\n",
        "\n",
        "model.add(layers.Dense(6, activation='softmax'))"
      ],
      "execution_count": null,
      "outputs": []
    },
    {
      "cell_type": "code",
      "metadata": {
        "colab": {
          "base_uri": "https://localhost:8080/"
        },
        "id": "5RR3QvmoMlMi",
        "outputId": "0690067e-dac1-4c9b-94d4-63b408002ec5"
      },
      "source": [
        "model.summary()"
      ],
      "execution_count": null,
      "outputs": [
        {
          "output_type": "stream",
          "text": [
            "Model: \"sequential\"\n",
            "_________________________________________________________________\n",
            "Layer (type)                 Output Shape              Param #   \n",
            "=================================================================\n",
            "conv2d (Conv2D)              (None, 100, 100, 16)      160       \n",
            "_________________________________________________________________\n",
            "max_pooling2d (MaxPooling2D) (None, 50, 50, 16)        0         \n",
            "_________________________________________________________________\n",
            "dropout (Dropout)            (None, 50, 50, 16)        0         \n",
            "_________________________________________________________________\n",
            "conv2d_1 (Conv2D)            (None, 50, 50, 32)        4640      \n",
            "_________________________________________________________________\n",
            "max_pooling2d_1 (MaxPooling2 (None, 25, 25, 32)        0         \n",
            "_________________________________________________________________\n",
            "dropout_1 (Dropout)          (None, 25, 25, 32)        0         \n",
            "_________________________________________________________________\n",
            "conv2d_2 (Conv2D)            (None, 25, 25, 64)        18496     \n",
            "_________________________________________________________________\n",
            "max_pooling2d_2 (MaxPooling2 (None, 12, 12, 64)        0         \n",
            "_________________________________________________________________\n",
            "dropout_2 (Dropout)          (None, 12, 12, 64)        0         \n",
            "_________________________________________________________________\n",
            "conv2d_3 (Conv2D)            (None, 12, 12, 128)       73856     \n",
            "_________________________________________________________________\n",
            "max_pooling2d_3 (MaxPooling2 (None, 6, 6, 128)         0         \n",
            "_________________________________________________________________\n",
            "dropout_3 (Dropout)          (None, 6, 6, 128)         0         \n",
            "_________________________________________________________________\n",
            "conv2d_4 (Conv2D)            (None, 6, 6, 256)         295168    \n",
            "_________________________________________________________________\n",
            "max_pooling2d_4 (MaxPooling2 (None, 3, 3, 256)         0         \n",
            "_________________________________________________________________\n",
            "dropout_4 (Dropout)          (None, 3, 3, 256)         0         \n",
            "_________________________________________________________________\n",
            "flatten (Flatten)            (None, 2304)              0         \n",
            "_________________________________________________________________\n",
            "dense (Dense)                (None, 256)               590080    \n",
            "_________________________________________________________________\n",
            "dropout_5 (Dropout)          (None, 256)               0         \n",
            "_________________________________________________________________\n",
            "dense_1 (Dense)              (None, 6)                 1542      \n",
            "=================================================================\n",
            "Total params: 983,942\n",
            "Trainable params: 983,942\n",
            "Non-trainable params: 0\n",
            "_________________________________________________________________\n"
          ],
          "name": "stdout"
        }
      ]
    },
    {
      "cell_type": "code",
      "metadata": {
        "id": "fCuG73wEePAE"
      },
      "source": [
        "model.compile(optimizer='adam', loss='sparse_categorical_crossentropy', metrics=['accuracy'])"
      ],
      "execution_count": null,
      "outputs": []
    },
    {
      "cell_type": "markdown",
      "metadata": {
        "id": "dXzY0mrLeT0r"
      },
      "source": [
        "**Fold 1**"
      ]
    },
    {
      "cell_type": "code",
      "metadata": {
        "colab": {
          "base_uri": "https://localhost:8080/"
        },
        "id": "DruFYNjceSfZ",
        "outputId": "9521add4-0fef-4726-de3c-005f9b36c8c1"
      },
      "source": [
        "F1model = models.clone_model(model)\n",
        "F1model.compile(optimizer='adam', loss='sparse_categorical_crossentropy', metrics=['accuracy'])\n",
        "history = F1model.fit(X_train[train_index[0]], y_train[train_index[0]], epochs=40, validation_data=(X_train[test_index[0]], y_train[test_index[0]]))"
      ],
      "execution_count": null,
      "outputs": [
        {
          "output_type": "stream",
          "text": [
            "Epoch 1/40\n",
            "84/84 [==============================] - 2s 13ms/step - loss: 1.8060 - accuracy: 0.1731 - val_loss: 1.7906 - val_accuracy: 0.1711\n",
            "Epoch 2/40\n",
            "84/84 [==============================] - 1s 10ms/step - loss: 1.7890 - accuracy: 0.1884 - val_loss: 1.7133 - val_accuracy: 0.2827\n",
            "Epoch 3/40\n",
            "84/84 [==============================] - 1s 10ms/step - loss: 1.7620 - accuracy: 0.2311 - val_loss: 1.6761 - val_accuracy: 0.3214\n",
            "Epoch 4/40\n",
            "84/84 [==============================] - 1s 10ms/step - loss: 1.5819 - accuracy: 0.3489 - val_loss: 1.3978 - val_accuracy: 0.4688\n",
            "Epoch 5/40\n",
            "84/84 [==============================] - 1s 10ms/step - loss: 1.3912 - accuracy: 0.4490 - val_loss: 1.2723 - val_accuracy: 0.5238\n",
            "Epoch 6/40\n",
            "84/84 [==============================] - 1s 10ms/step - loss: 1.1548 - accuracy: 0.5682 - val_loss: 1.0973 - val_accuracy: 0.5699\n",
            "Epoch 7/40\n",
            "84/84 [==============================] - 1s 10ms/step - loss: 0.9350 - accuracy: 0.6640 - val_loss: 0.9071 - val_accuracy: 0.6637\n",
            "Epoch 8/40\n",
            "84/84 [==============================] - 1s 10ms/step - loss: 0.8023 - accuracy: 0.7039 - val_loss: 0.7397 - val_accuracy: 0.7366\n",
            "Epoch 9/40\n",
            "84/84 [==============================] - 1s 10ms/step - loss: 0.6526 - accuracy: 0.7739 - val_loss: 0.7313 - val_accuracy: 0.7545\n",
            "Epoch 10/40\n",
            "84/84 [==============================] - 1s 10ms/step - loss: 0.5381 - accuracy: 0.8141 - val_loss: 0.6998 - val_accuracy: 0.7783\n",
            "Epoch 11/40\n",
            "84/84 [==============================] - 1s 10ms/step - loss: 0.4464 - accuracy: 0.8490 - val_loss: 0.5993 - val_accuracy: 0.7842\n",
            "Epoch 12/40\n",
            "84/84 [==============================] - 1s 10ms/step - loss: 0.3800 - accuracy: 0.8786 - val_loss: 0.5228 - val_accuracy: 0.8244\n",
            "Epoch 13/40\n",
            "84/84 [==============================] - 1s 10ms/step - loss: 0.3341 - accuracy: 0.8773 - val_loss: 0.4872 - val_accuracy: 0.8274\n",
            "Epoch 14/40\n",
            "84/84 [==============================] - 1s 10ms/step - loss: 0.2677 - accuracy: 0.9087 - val_loss: 0.4573 - val_accuracy: 0.8438\n",
            "Epoch 15/40\n",
            "84/84 [==============================] - 1s 10ms/step - loss: 0.2106 - accuracy: 0.9264 - val_loss: 0.4985 - val_accuracy: 0.8482\n",
            "Epoch 16/40\n",
            "84/84 [==============================] - 1s 10ms/step - loss: 0.2296 - accuracy: 0.9181 - val_loss: 0.4887 - val_accuracy: 0.8393\n",
            "Epoch 17/40\n",
            "84/84 [==============================] - 1s 10ms/step - loss: 0.1751 - accuracy: 0.9422 - val_loss: 0.4658 - val_accuracy: 0.8646\n",
            "Epoch 18/40\n",
            "84/84 [==============================] - 1s 10ms/step - loss: 0.1887 - accuracy: 0.9420 - val_loss: 0.4877 - val_accuracy: 0.8557\n",
            "Epoch 19/40\n",
            "84/84 [==============================] - 1s 10ms/step - loss: 0.1555 - accuracy: 0.9490 - val_loss: 0.4673 - val_accuracy: 0.8661\n",
            "Epoch 20/40\n",
            "84/84 [==============================] - 1s 10ms/step - loss: 0.1498 - accuracy: 0.9538 - val_loss: 0.4816 - val_accuracy: 0.8616\n",
            "Epoch 21/40\n",
            "84/84 [==============================] - 1s 10ms/step - loss: 0.1291 - accuracy: 0.9576 - val_loss: 0.4813 - val_accuracy: 0.8557\n",
            "Epoch 22/40\n",
            "84/84 [==============================] - 1s 10ms/step - loss: 0.1337 - accuracy: 0.9556 - val_loss: 0.4745 - val_accuracy: 0.8616\n",
            "Epoch 23/40\n",
            "84/84 [==============================] - 1s 10ms/step - loss: 0.1300 - accuracy: 0.9535 - val_loss: 0.3958 - val_accuracy: 0.8869\n",
            "Epoch 24/40\n",
            "84/84 [==============================] - 1s 10ms/step - loss: 0.0848 - accuracy: 0.9713 - val_loss: 0.4784 - val_accuracy: 0.8765\n",
            "Epoch 25/40\n",
            "84/84 [==============================] - 1s 10ms/step - loss: 0.0891 - accuracy: 0.9679 - val_loss: 0.5014 - val_accuracy: 0.8661\n",
            "Epoch 26/40\n",
            "84/84 [==============================] - 1s 10ms/step - loss: 0.0913 - accuracy: 0.9690 - val_loss: 0.4485 - val_accuracy: 0.8661\n",
            "Epoch 27/40\n",
            "84/84 [==============================] - 1s 10ms/step - loss: 0.0837 - accuracy: 0.9680 - val_loss: 0.4993 - val_accuracy: 0.8616\n",
            "Epoch 28/40\n",
            "84/84 [==============================] - 1s 10ms/step - loss: 0.0959 - accuracy: 0.9673 - val_loss: 0.4760 - val_accuracy: 0.8646\n",
            "Epoch 29/40\n",
            "84/84 [==============================] - 1s 10ms/step - loss: 0.0730 - accuracy: 0.9743 - val_loss: 0.5043 - val_accuracy: 0.8601\n",
            "Epoch 30/40\n",
            "84/84 [==============================] - 1s 10ms/step - loss: 0.0788 - accuracy: 0.9746 - val_loss: 0.4904 - val_accuracy: 0.8735\n",
            "Epoch 31/40\n",
            "84/84 [==============================] - 1s 10ms/step - loss: 0.0906 - accuracy: 0.9692 - val_loss: 0.5219 - val_accuracy: 0.8512\n",
            "Epoch 32/40\n",
            "84/84 [==============================] - 1s 10ms/step - loss: 0.0966 - accuracy: 0.9620 - val_loss: 0.5018 - val_accuracy: 0.8631\n",
            "Epoch 33/40\n",
            "84/84 [==============================] - 1s 10ms/step - loss: 0.0594 - accuracy: 0.9792 - val_loss: 0.4795 - val_accuracy: 0.8571\n",
            "Epoch 34/40\n",
            "84/84 [==============================] - 1s 10ms/step - loss: 0.0668 - accuracy: 0.9778 - val_loss: 0.4602 - val_accuracy: 0.8690\n",
            "Epoch 35/40\n",
            "84/84 [==============================] - 1s 10ms/step - loss: 0.0602 - accuracy: 0.9855 - val_loss: 0.4451 - val_accuracy: 0.8705\n",
            "Epoch 36/40\n",
            "84/84 [==============================] - 1s 10ms/step - loss: 0.0677 - accuracy: 0.9751 - val_loss: 0.4714 - val_accuracy: 0.8795\n",
            "Epoch 37/40\n",
            "84/84 [==============================] - 1s 10ms/step - loss: 0.0656 - accuracy: 0.9797 - val_loss: 0.5352 - val_accuracy: 0.8810\n",
            "Epoch 38/40\n",
            "84/84 [==============================] - 1s 10ms/step - loss: 0.0419 - accuracy: 0.9848 - val_loss: 0.4819 - val_accuracy: 0.9033\n",
            "Epoch 39/40\n",
            "84/84 [==============================] - 1s 10ms/step - loss: 0.0456 - accuracy: 0.9830 - val_loss: 0.5143 - val_accuracy: 0.8780\n",
            "Epoch 40/40\n",
            "84/84 [==============================] - 1s 10ms/step - loss: 0.0731 - accuracy: 0.9782 - val_loss: 0.4527 - val_accuracy: 0.8854\n"
          ],
          "name": "stdout"
        }
      ]
    },
    {
      "cell_type": "code",
      "metadata": {
        "colab": {
          "base_uri": "https://localhost:8080/"
        },
        "id": "4RFefJWy-0K3",
        "outputId": "463e8894-e9fd-45f0-e618-9ff6dbc51819"
      },
      "source": [
        "results = F1model.evaluate(X_test,  y_test, verbose=2)"
      ],
      "execution_count": null,
      "outputs": [
        {
          "output_type": "stream",
          "text": [
            "27/27 - 0s - loss: 0.4118 - accuracy: 0.8917\n"
          ],
          "name": "stdout"
        }
      ]
    },
    {
      "cell_type": "markdown",
      "metadata": {
        "id": "0e9WMD1Z_EoD"
      },
      "source": [
        "**Fold 2**"
      ]
    },
    {
      "cell_type": "code",
      "metadata": {
        "colab": {
          "base_uri": "https://localhost:8080/"
        },
        "id": "5DKcCvAn_Eoz",
        "outputId": "2def6536-25bf-4c79-8d9b-9302c601ea94"
      },
      "source": [
        "F2model = models.clone_model(model)\n",
        "F2model.compile(optimizer='adam', loss='sparse_categorical_crossentropy', metrics=['accuracy'])\n",
        "history = F2model.fit(X_train[train_index[1]], y_train[train_index[1]], epochs=40, validation_data=(X_train[test_index[1]], y_train[test_index[1]]))"
      ],
      "execution_count": null,
      "outputs": [
        {
          "output_type": "stream",
          "text": [
            "Epoch 1/40\n",
            "84/84 [==============================] - 2s 13ms/step - loss: 1.8022 - accuracy: 0.1728 - val_loss: 1.7895 - val_accuracy: 0.1711\n",
            "Epoch 2/40\n",
            "84/84 [==============================] - 1s 10ms/step - loss: 1.7740 - accuracy: 0.2287 - val_loss: 1.7454 - val_accuracy: 0.2232\n",
            "Epoch 3/40\n",
            "84/84 [==============================] - 1s 10ms/step - loss: 1.6336 - accuracy: 0.3354 - val_loss: 1.4769 - val_accuracy: 0.4717\n",
            "Epoch 4/40\n",
            "84/84 [==============================] - 1s 10ms/step - loss: 1.4231 - accuracy: 0.4542 - val_loss: 1.2312 - val_accuracy: 0.5387\n",
            "Epoch 5/40\n",
            "84/84 [==============================] - 1s 10ms/step - loss: 1.1383 - accuracy: 0.5781 - val_loss: 1.0761 - val_accuracy: 0.6146\n",
            "Epoch 6/40\n",
            "84/84 [==============================] - 1s 10ms/step - loss: 0.9548 - accuracy: 0.6579 - val_loss: 0.9522 - val_accuracy: 0.6771\n",
            "Epoch 7/40\n",
            "84/84 [==============================] - 1s 10ms/step - loss: 0.8577 - accuracy: 0.6893 - val_loss: 0.7706 - val_accuracy: 0.7247\n",
            "Epoch 8/40\n",
            "84/84 [==============================] - 1s 10ms/step - loss: 0.6781 - accuracy: 0.7457 - val_loss: 0.6502 - val_accuracy: 0.7589\n",
            "Epoch 9/40\n",
            "84/84 [==============================] - 1s 10ms/step - loss: 0.5567 - accuracy: 0.7905 - val_loss: 0.6008 - val_accuracy: 0.7917\n",
            "Epoch 10/40\n",
            "84/84 [==============================] - 1s 10ms/step - loss: 0.4609 - accuracy: 0.8244 - val_loss: 0.5581 - val_accuracy: 0.8006\n",
            "Epoch 11/40\n",
            "84/84 [==============================] - 1s 10ms/step - loss: 0.4140 - accuracy: 0.8510 - val_loss: 0.5062 - val_accuracy: 0.8110\n",
            "Epoch 12/40\n",
            "84/84 [==============================] - 1s 10ms/step - loss: 0.3174 - accuracy: 0.8918 - val_loss: 0.4490 - val_accuracy: 0.8348\n",
            "Epoch 13/40\n",
            "84/84 [==============================] - 1s 10ms/step - loss: 0.2941 - accuracy: 0.8894 - val_loss: 0.4433 - val_accuracy: 0.8304\n",
            "Epoch 14/40\n",
            "84/84 [==============================] - 1s 10ms/step - loss: 0.2292 - accuracy: 0.9159 - val_loss: 0.4505 - val_accuracy: 0.8482\n",
            "Epoch 15/40\n",
            "84/84 [==============================] - 1s 10ms/step - loss: 0.2125 - accuracy: 0.9248 - val_loss: 0.4066 - val_accuracy: 0.8631\n",
            "Epoch 16/40\n",
            "84/84 [==============================] - 1s 10ms/step - loss: 0.1585 - accuracy: 0.9477 - val_loss: 0.6336 - val_accuracy: 0.8378\n",
            "Epoch 17/40\n",
            "84/84 [==============================] - 1s 10ms/step - loss: 0.1585 - accuracy: 0.9404 - val_loss: 0.4083 - val_accuracy: 0.8810\n",
            "Epoch 18/40\n",
            "84/84 [==============================] - 1s 10ms/step - loss: 0.1610 - accuracy: 0.9476 - val_loss: 0.4098 - val_accuracy: 0.8795\n",
            "Epoch 19/40\n",
            "84/84 [==============================] - 1s 10ms/step - loss: 0.1138 - accuracy: 0.9614 - val_loss: 0.4126 - val_accuracy: 0.8631\n",
            "Epoch 20/40\n",
            "84/84 [==============================] - 1s 10ms/step - loss: 0.1254 - accuracy: 0.9586 - val_loss: 0.5007 - val_accuracy: 0.8497\n",
            "Epoch 21/40\n",
            "84/84 [==============================] - 1s 10ms/step - loss: 0.1069 - accuracy: 0.9638 - val_loss: 0.4477 - val_accuracy: 0.8690\n",
            "Epoch 22/40\n",
            "84/84 [==============================] - 1s 10ms/step - loss: 0.1189 - accuracy: 0.9542 - val_loss: 0.4005 - val_accuracy: 0.8869\n",
            "Epoch 23/40\n",
            "84/84 [==============================] - 1s 10ms/step - loss: 0.0843 - accuracy: 0.9716 - val_loss: 0.4684 - val_accuracy: 0.8750\n",
            "Epoch 24/40\n",
            "84/84 [==============================] - 1s 10ms/step - loss: 0.1058 - accuracy: 0.9595 - val_loss: 0.4129 - val_accuracy: 0.8780\n",
            "Epoch 25/40\n",
            "84/84 [==============================] - 1s 10ms/step - loss: 0.1124 - accuracy: 0.9578 - val_loss: 0.3989 - val_accuracy: 0.8884\n",
            "Epoch 26/40\n",
            "84/84 [==============================] - 1s 10ms/step - loss: 0.0792 - accuracy: 0.9727 - val_loss: 0.4067 - val_accuracy: 0.8795\n",
            "Epoch 27/40\n",
            "84/84 [==============================] - 1s 10ms/step - loss: 0.0767 - accuracy: 0.9725 - val_loss: 0.4566 - val_accuracy: 0.8884\n",
            "Epoch 28/40\n",
            "84/84 [==============================] - 1s 10ms/step - loss: 0.1357 - accuracy: 0.9547 - val_loss: 0.3631 - val_accuracy: 0.8795\n",
            "Epoch 29/40\n",
            "84/84 [==============================] - 1s 10ms/step - loss: 0.0928 - accuracy: 0.9724 - val_loss: 0.4063 - val_accuracy: 0.8824\n",
            "Epoch 30/40\n",
            "84/84 [==============================] - 1s 10ms/step - loss: 0.0534 - accuracy: 0.9829 - val_loss: 0.4125 - val_accuracy: 0.8914\n",
            "Epoch 31/40\n",
            "84/84 [==============================] - 1s 10ms/step - loss: 0.0412 - accuracy: 0.9819 - val_loss: 0.5112 - val_accuracy: 0.8705\n",
            "Epoch 32/40\n",
            "84/84 [==============================] - 1s 10ms/step - loss: 0.0608 - accuracy: 0.9778 - val_loss: 0.4167 - val_accuracy: 0.8824\n",
            "Epoch 33/40\n",
            "84/84 [==============================] - 1s 10ms/step - loss: 0.0664 - accuracy: 0.9751 - val_loss: 0.4451 - val_accuracy: 0.8884\n",
            "Epoch 34/40\n",
            "84/84 [==============================] - 1s 10ms/step - loss: 0.0839 - accuracy: 0.9717 - val_loss: 0.4867 - val_accuracy: 0.8765\n",
            "Epoch 35/40\n",
            "84/84 [==============================] - 1s 10ms/step - loss: 0.0723 - accuracy: 0.9775 - val_loss: 0.5060 - val_accuracy: 0.8795\n",
            "Epoch 36/40\n",
            "84/84 [==============================] - 1s 10ms/step - loss: 0.0971 - accuracy: 0.9690 - val_loss: 0.4915 - val_accuracy: 0.8810\n",
            "Epoch 37/40\n",
            "84/84 [==============================] - 1s 10ms/step - loss: 0.0656 - accuracy: 0.9757 - val_loss: 0.4286 - val_accuracy: 0.8795\n",
            "Epoch 38/40\n",
            "84/84 [==============================] - 1s 10ms/step - loss: 0.0583 - accuracy: 0.9836 - val_loss: 0.4312 - val_accuracy: 0.8795\n",
            "Epoch 39/40\n",
            "84/84 [==============================] - 1s 10ms/step - loss: 0.0617 - accuracy: 0.9790 - val_loss: 0.4248 - val_accuracy: 0.8854\n",
            "Epoch 40/40\n",
            "84/84 [==============================] - 1s 10ms/step - loss: 0.0602 - accuracy: 0.9795 - val_loss: 0.3949 - val_accuracy: 0.9018\n"
          ],
          "name": "stdout"
        }
      ]
    },
    {
      "cell_type": "code",
      "metadata": {
        "colab": {
          "base_uri": "https://localhost:8080/"
        },
        "id": "abtoA-4-_Eo2",
        "outputId": "85bb4b44-fc75-4fdc-bb8c-da0b93e15338"
      },
      "source": [
        "results = F2model.evaluate(X_test,  y_test, verbose=2)"
      ],
      "execution_count": null,
      "outputs": [
        {
          "output_type": "stream",
          "text": [
            "27/27 - 0s - loss: 0.4066 - accuracy: 0.8988\n"
          ],
          "name": "stdout"
        }
      ]
    },
    {
      "cell_type": "markdown",
      "metadata": {
        "id": "yp5MMKnM_GgA"
      },
      "source": [
        "**Fold 3**"
      ]
    },
    {
      "cell_type": "code",
      "metadata": {
        "colab": {
          "base_uri": "https://localhost:8080/"
        },
        "id": "CJy_nR8K_GgC",
        "outputId": "9e588a0e-34f2-4808-cedc-243da8df971b"
      },
      "source": [
        "F3model = models.clone_model(model)\n",
        "F3model.compile(optimizer='adam', loss='sparse_categorical_crossentropy', metrics=['accuracy'])\n",
        "history = F3model.fit(X_train[train_index[2]], y_train[train_index[2]], epochs=40, validation_data=(X_train[test_index[2]], y_train[test_index[2]]))"
      ],
      "execution_count": null,
      "outputs": [
        {
          "output_type": "stream",
          "text": [
            "Epoch 1/40\n",
            "84/84 [==============================] - 2s 12ms/step - loss: 1.8040 - accuracy: 0.1677 - val_loss: 1.7842 - val_accuracy: 0.2098\n",
            "Epoch 2/40\n",
            "84/84 [==============================] - 1s 10ms/step - loss: 1.7586 - accuracy: 0.2327 - val_loss: 1.7007 - val_accuracy: 0.3021\n",
            "Epoch 3/40\n",
            "84/84 [==============================] - 1s 10ms/step - loss: 1.5765 - accuracy: 0.3564 - val_loss: 1.3956 - val_accuracy: 0.4792\n",
            "Epoch 4/40\n",
            "84/84 [==============================] - 1s 10ms/step - loss: 1.3760 - accuracy: 0.4673 - val_loss: 1.1505 - val_accuracy: 0.5952\n",
            "Epoch 5/40\n",
            "84/84 [==============================] - 1s 10ms/step - loss: 1.1397 - accuracy: 0.5723 - val_loss: 0.8876 - val_accuracy: 0.6696\n",
            "Epoch 6/40\n",
            "84/84 [==============================] - 1s 10ms/step - loss: 0.9618 - accuracy: 0.6384 - val_loss: 0.7696 - val_accuracy: 0.7202\n",
            "Epoch 7/40\n",
            "84/84 [==============================] - 1s 10ms/step - loss: 0.7677 - accuracy: 0.7071 - val_loss: 0.6939 - val_accuracy: 0.7634\n",
            "Epoch 8/40\n",
            "84/84 [==============================] - 1s 10ms/step - loss: 0.6998 - accuracy: 0.7312 - val_loss: 0.7363 - val_accuracy: 0.7277\n",
            "Epoch 9/40\n",
            "84/84 [==============================] - 1s 10ms/step - loss: 0.6448 - accuracy: 0.7610 - val_loss: 0.5770 - val_accuracy: 0.8065\n",
            "Epoch 10/40\n",
            "84/84 [==============================] - 1s 10ms/step - loss: 0.5188 - accuracy: 0.8013 - val_loss: 0.4979 - val_accuracy: 0.8408\n",
            "Epoch 11/40\n",
            "84/84 [==============================] - 1s 10ms/step - loss: 0.4707 - accuracy: 0.8282 - val_loss: 0.4767 - val_accuracy: 0.8274\n",
            "Epoch 12/40\n",
            "84/84 [==============================] - 1s 10ms/step - loss: 0.4186 - accuracy: 0.8445 - val_loss: 0.4300 - val_accuracy: 0.8586\n",
            "Epoch 13/40\n",
            "84/84 [==============================] - 1s 10ms/step - loss: 0.3634 - accuracy: 0.8758 - val_loss: 0.4304 - val_accuracy: 0.8690\n",
            "Epoch 14/40\n",
            "84/84 [==============================] - 1s 10ms/step - loss: 0.3105 - accuracy: 0.8953 - val_loss: 0.4245 - val_accuracy: 0.8601\n",
            "Epoch 15/40\n",
            "84/84 [==============================] - 1s 10ms/step - loss: 0.2489 - accuracy: 0.9132 - val_loss: 0.5134 - val_accuracy: 0.8467\n",
            "Epoch 16/40\n",
            "84/84 [==============================] - 1s 10ms/step - loss: 0.2725 - accuracy: 0.9043 - val_loss: 0.4429 - val_accuracy: 0.8705\n",
            "Epoch 17/40\n",
            "84/84 [==============================] - 1s 10ms/step - loss: 0.2432 - accuracy: 0.9157 - val_loss: 0.5539 - val_accuracy: 0.8527\n",
            "Epoch 18/40\n",
            "84/84 [==============================] - 1s 10ms/step - loss: 0.2222 - accuracy: 0.9302 - val_loss: 0.4182 - val_accuracy: 0.8750\n",
            "Epoch 19/40\n",
            "84/84 [==============================] - 1s 10ms/step - loss: 0.1772 - accuracy: 0.9406 - val_loss: 0.4693 - val_accuracy: 0.8705\n",
            "Epoch 20/40\n",
            "84/84 [==============================] - 1s 10ms/step - loss: 0.1432 - accuracy: 0.9462 - val_loss: 0.4287 - val_accuracy: 0.8884\n",
            "Epoch 21/40\n",
            "84/84 [==============================] - 1s 11ms/step - loss: 0.1470 - accuracy: 0.9435 - val_loss: 0.4567 - val_accuracy: 0.8735\n",
            "Epoch 22/40\n",
            "84/84 [==============================] - 1s 10ms/step - loss: 0.1274 - accuracy: 0.9570 - val_loss: 0.4083 - val_accuracy: 0.8914\n",
            "Epoch 23/40\n",
            "84/84 [==============================] - 1s 10ms/step - loss: 0.1652 - accuracy: 0.9425 - val_loss: 0.3762 - val_accuracy: 0.8958\n",
            "Epoch 24/40\n",
            "84/84 [==============================] - 1s 10ms/step - loss: 0.1062 - accuracy: 0.9647 - val_loss: 0.4806 - val_accuracy: 0.8869\n",
            "Epoch 25/40\n",
            "84/84 [==============================] - 1s 10ms/step - loss: 0.1171 - accuracy: 0.9617 - val_loss: 0.3834 - val_accuracy: 0.9048\n",
            "Epoch 26/40\n",
            "84/84 [==============================] - 1s 10ms/step - loss: 0.0927 - accuracy: 0.9697 - val_loss: 0.4795 - val_accuracy: 0.8943\n",
            "Epoch 27/40\n",
            "84/84 [==============================] - 1s 10ms/step - loss: 0.0952 - accuracy: 0.9656 - val_loss: 0.4161 - val_accuracy: 0.9033\n",
            "Epoch 28/40\n",
            "84/84 [==============================] - 1s 10ms/step - loss: 0.1102 - accuracy: 0.9655 - val_loss: 0.4872 - val_accuracy: 0.8824\n",
            "Epoch 29/40\n",
            "84/84 [==============================] - 1s 10ms/step - loss: 0.0774 - accuracy: 0.9743 - val_loss: 0.3823 - val_accuracy: 0.8973\n",
            "Epoch 30/40\n",
            "84/84 [==============================] - 1s 10ms/step - loss: 0.0722 - accuracy: 0.9727 - val_loss: 0.5150 - val_accuracy: 0.8884\n",
            "Epoch 31/40\n",
            "84/84 [==============================] - 1s 10ms/step - loss: 0.1147 - accuracy: 0.9652 - val_loss: 0.3397 - val_accuracy: 0.9077\n",
            "Epoch 32/40\n",
            "84/84 [==============================] - 1s 10ms/step - loss: 0.0840 - accuracy: 0.9739 - val_loss: 0.3779 - val_accuracy: 0.9122\n",
            "Epoch 33/40\n",
            "84/84 [==============================] - 1s 10ms/step - loss: 0.0724 - accuracy: 0.9772 - val_loss: 0.4962 - val_accuracy: 0.8943\n",
            "Epoch 34/40\n",
            "84/84 [==============================] - 1s 10ms/step - loss: 0.0601 - accuracy: 0.9799 - val_loss: 0.5168 - val_accuracy: 0.8929\n",
            "Epoch 35/40\n",
            "84/84 [==============================] - 1s 10ms/step - loss: 0.0889 - accuracy: 0.9713 - val_loss: 0.4195 - val_accuracy: 0.9107\n",
            "Epoch 36/40\n",
            "84/84 [==============================] - 1s 10ms/step - loss: 0.0593 - accuracy: 0.9795 - val_loss: 0.3961 - val_accuracy: 0.9137\n",
            "Epoch 37/40\n",
            "84/84 [==============================] - 1s 10ms/step - loss: 0.0498 - accuracy: 0.9798 - val_loss: 0.4788 - val_accuracy: 0.8973\n",
            "Epoch 38/40\n",
            "84/84 [==============================] - 1s 10ms/step - loss: 0.0640 - accuracy: 0.9782 - val_loss: 0.3927 - val_accuracy: 0.9137\n",
            "Epoch 39/40\n",
            "84/84 [==============================] - 1s 10ms/step - loss: 0.0683 - accuracy: 0.9756 - val_loss: 0.3814 - val_accuracy: 0.9033\n",
            "Epoch 40/40\n",
            "84/84 [==============================] - 1s 10ms/step - loss: 0.0746 - accuracy: 0.9717 - val_loss: 0.4571 - val_accuracy: 0.8973\n"
          ],
          "name": "stdout"
        }
      ]
    },
    {
      "cell_type": "code",
      "metadata": {
        "colab": {
          "base_uri": "https://localhost:8080/"
        },
        "id": "5ALjCZTt_GgE",
        "outputId": "876ff345-4056-45ce-cf95-9413ad3da586"
      },
      "source": [
        "results = F3model.evaluate(X_test,  y_test, verbose=2)"
      ],
      "execution_count": null,
      "outputs": [
        {
          "output_type": "stream",
          "text": [
            "27/27 - 0s - loss: 0.4264 - accuracy: 0.8917\n"
          ],
          "name": "stdout"
        }
      ]
    },
    {
      "cell_type": "markdown",
      "metadata": {
        "id": "nDOwIWAs_HhW"
      },
      "source": [
        "**Fold 4**"
      ]
    },
    {
      "cell_type": "code",
      "metadata": {
        "colab": {
          "base_uri": "https://localhost:8080/"
        },
        "id": "GhyIoOFP_HhZ",
        "outputId": "cc3c1302-0341-4657-90b9-bbaf7cced97b"
      },
      "source": [
        "F4model = models.clone_model(model)\n",
        "F4model.compile(optimizer='adam', loss='sparse_categorical_crossentropy', metrics=['accuracy'])\n",
        "history = F4model.fit(X_train[train_index[3]], y_train[train_index[3]], epochs=40, validation_data=(X_train[test_index[3]], y_train[test_index[3]]))"
      ],
      "execution_count": null,
      "outputs": [
        {
          "output_type": "stream",
          "text": [
            "Epoch 1/40\n",
            "84/84 [==============================] - 2s 13ms/step - loss: 1.7963 - accuracy: 0.1662 - val_loss: 1.7849 - val_accuracy: 0.1652\n",
            "Epoch 2/40\n",
            "84/84 [==============================] - 1s 10ms/step - loss: 1.7657 - accuracy: 0.2307 - val_loss: 1.5795 - val_accuracy: 0.3482\n",
            "Epoch 3/40\n",
            "84/84 [==============================] - 1s 10ms/step - loss: 1.5460 - accuracy: 0.4008 - val_loss: 1.3684 - val_accuracy: 0.4955\n",
            "Epoch 4/40\n",
            "84/84 [==============================] - 1s 10ms/step - loss: 1.3131 - accuracy: 0.4934 - val_loss: 1.1154 - val_accuracy: 0.5655\n",
            "Epoch 5/40\n",
            "84/84 [==============================] - 1s 10ms/step - loss: 1.0467 - accuracy: 0.6108 - val_loss: 1.0202 - val_accuracy: 0.6220\n",
            "Epoch 6/40\n",
            "84/84 [==============================] - 1s 10ms/step - loss: 0.9117 - accuracy: 0.6571 - val_loss: 0.9287 - val_accuracy: 0.6622\n",
            "Epoch 7/40\n",
            "84/84 [==============================] - 1s 10ms/step - loss: 0.8475 - accuracy: 0.6905 - val_loss: 0.7841 - val_accuracy: 0.7113\n",
            "Epoch 8/40\n",
            "84/84 [==============================] - 1s 10ms/step - loss: 0.6685 - accuracy: 0.7578 - val_loss: 0.7124 - val_accuracy: 0.7545\n",
            "Epoch 9/40\n",
            "84/84 [==============================] - 1s 10ms/step - loss: 0.5746 - accuracy: 0.7855 - val_loss: 0.6384 - val_accuracy: 0.7827\n",
            "Epoch 10/40\n",
            "84/84 [==============================] - 1s 10ms/step - loss: 0.5388 - accuracy: 0.8075 - val_loss: 0.6540 - val_accuracy: 0.7842\n",
            "Epoch 11/40\n",
            "84/84 [==============================] - 1s 10ms/step - loss: 0.4642 - accuracy: 0.8349 - val_loss: 0.6375 - val_accuracy: 0.7857\n",
            "Epoch 12/40\n",
            "84/84 [==============================] - 1s 10ms/step - loss: 0.4017 - accuracy: 0.8495 - val_loss: 0.5977 - val_accuracy: 0.7961\n",
            "Epoch 13/40\n",
            "84/84 [==============================] - 1s 10ms/step - loss: 0.3225 - accuracy: 0.8867 - val_loss: 0.5430 - val_accuracy: 0.8214\n",
            "Epoch 14/40\n",
            "84/84 [==============================] - 1s 10ms/step - loss: 0.2833 - accuracy: 0.8997 - val_loss: 0.5701 - val_accuracy: 0.8065\n",
            "Epoch 15/40\n",
            "84/84 [==============================] - 1s 10ms/step - loss: 0.2375 - accuracy: 0.9195 - val_loss: 0.5436 - val_accuracy: 0.8259\n",
            "Epoch 16/40\n",
            "84/84 [==============================] - 1s 10ms/step - loss: 0.2262 - accuracy: 0.9199 - val_loss: 0.5613 - val_accuracy: 0.8080\n",
            "Epoch 17/40\n",
            "84/84 [==============================] - 1s 10ms/step - loss: 0.2046 - accuracy: 0.9305 - val_loss: 0.4531 - val_accuracy: 0.8423\n",
            "Epoch 18/40\n",
            "84/84 [==============================] - 1s 10ms/step - loss: 0.1678 - accuracy: 0.9405 - val_loss: 0.4767 - val_accuracy: 0.8289\n",
            "Epoch 19/40\n",
            "84/84 [==============================] - 1s 10ms/step - loss: 0.1616 - accuracy: 0.9459 - val_loss: 0.5904 - val_accuracy: 0.8289\n",
            "Epoch 20/40\n",
            "84/84 [==============================] - 1s 10ms/step - loss: 0.1696 - accuracy: 0.9351 - val_loss: 0.5247 - val_accuracy: 0.8423\n",
            "Epoch 21/40\n",
            "84/84 [==============================] - 1s 10ms/step - loss: 0.1449 - accuracy: 0.9527 - val_loss: 0.4393 - val_accuracy: 0.8705\n",
            "Epoch 22/40\n",
            "84/84 [==============================] - 1s 10ms/step - loss: 0.1142 - accuracy: 0.9632 - val_loss: 0.5213 - val_accuracy: 0.8586\n",
            "Epoch 23/40\n",
            "84/84 [==============================] - 1s 10ms/step - loss: 0.1142 - accuracy: 0.9607 - val_loss: 0.4981 - val_accuracy: 0.8616\n",
            "Epoch 24/40\n",
            "84/84 [==============================] - 1s 10ms/step - loss: 0.1450 - accuracy: 0.9504 - val_loss: 0.4565 - val_accuracy: 0.8676\n",
            "Epoch 25/40\n",
            "84/84 [==============================] - 1s 10ms/step - loss: 0.0936 - accuracy: 0.9719 - val_loss: 0.4677 - val_accuracy: 0.8601\n",
            "Epoch 26/40\n",
            "84/84 [==============================] - 1s 10ms/step - loss: 0.1029 - accuracy: 0.9688 - val_loss: 0.4256 - val_accuracy: 0.8824\n",
            "Epoch 27/40\n",
            "84/84 [==============================] - 1s 10ms/step - loss: 0.1021 - accuracy: 0.9575 - val_loss: 0.4909 - val_accuracy: 0.8527\n",
            "Epoch 28/40\n",
            "84/84 [==============================] - 1s 10ms/step - loss: 0.0902 - accuracy: 0.9658 - val_loss: 0.5231 - val_accuracy: 0.8467\n",
            "Epoch 29/40\n",
            "84/84 [==============================] - 1s 10ms/step - loss: 0.0696 - accuracy: 0.9778 - val_loss: 0.5002 - val_accuracy: 0.8452\n",
            "Epoch 30/40\n",
            "84/84 [==============================] - 1s 10ms/step - loss: 0.0900 - accuracy: 0.9680 - val_loss: 0.5028 - val_accuracy: 0.8527\n",
            "Epoch 31/40\n",
            "84/84 [==============================] - 1s 10ms/step - loss: 0.0797 - accuracy: 0.9732 - val_loss: 0.4907 - val_accuracy: 0.8631\n",
            "Epoch 32/40\n",
            "84/84 [==============================] - 1s 10ms/step - loss: 0.0770 - accuracy: 0.9761 - val_loss: 0.4875 - val_accuracy: 0.8720\n",
            "Epoch 33/40\n",
            "84/84 [==============================] - 1s 10ms/step - loss: 0.0860 - accuracy: 0.9715 - val_loss: 0.5057 - val_accuracy: 0.8646\n",
            "Epoch 34/40\n",
            "84/84 [==============================] - 1s 10ms/step - loss: 0.0634 - accuracy: 0.9771 - val_loss: 0.5437 - val_accuracy: 0.8690\n",
            "Epoch 35/40\n",
            "84/84 [==============================] - 1s 10ms/step - loss: 0.0551 - accuracy: 0.9833 - val_loss: 0.5219 - val_accuracy: 0.8705\n",
            "Epoch 36/40\n",
            "84/84 [==============================] - 1s 10ms/step - loss: 0.0813 - accuracy: 0.9756 - val_loss: 0.5588 - val_accuracy: 0.8601\n",
            "Epoch 37/40\n",
            "84/84 [==============================] - 1s 10ms/step - loss: 0.0449 - accuracy: 0.9856 - val_loss: 0.5302 - val_accuracy: 0.8854\n",
            "Epoch 38/40\n",
            "84/84 [==============================] - 1s 10ms/step - loss: 0.0411 - accuracy: 0.9857 - val_loss: 0.5432 - val_accuracy: 0.8542\n",
            "Epoch 39/40\n",
            "84/84 [==============================] - 1s 10ms/step - loss: 0.0763 - accuracy: 0.9753 - val_loss: 0.5440 - val_accuracy: 0.8705\n",
            "Epoch 40/40\n",
            "84/84 [==============================] - 1s 10ms/step - loss: 0.0919 - accuracy: 0.9668 - val_loss: 0.5018 - val_accuracy: 0.8854\n"
          ],
          "name": "stdout"
        }
      ]
    },
    {
      "cell_type": "code",
      "metadata": {
        "colab": {
          "base_uri": "https://localhost:8080/"
        },
        "id": "VsiWZEog_Hha",
        "outputId": "ba12efee-6b79-4a00-e8e2-7deb04c35a20"
      },
      "source": [
        "results = F4model.evaluate(X_test,  y_test, verbose=2)"
      ],
      "execution_count": null,
      "outputs": [
        {
          "output_type": "stream",
          "text": [
            "27/27 - 0s - loss: 0.3867 - accuracy: 0.9036\n"
          ],
          "name": "stdout"
        }
      ]
    },
    {
      "cell_type": "markdown",
      "metadata": {
        "id": "_fR8F7dp_Iej"
      },
      "source": [
        "**Fold 5**"
      ]
    },
    {
      "cell_type": "code",
      "metadata": {
        "colab": {
          "base_uri": "https://localhost:8080/"
        },
        "id": "hyaOTWYK_Iek",
        "outputId": "83eedb33-1a5d-4449-f5d1-9d71ef5e1728"
      },
      "source": [
        "F5model = models.clone_model(model)\n",
        "F5model.compile(optimizer='adam', loss='sparse_categorical_crossentropy', metrics=['accuracy'])\n",
        "history = F5model.fit(X_train[train_index[4]], y_train[train_index[4]], epochs=40, validation_data=(X_train[test_index[4]], y_train[test_index[4]]))"
      ],
      "execution_count": null,
      "outputs": [
        {
          "output_type": "stream",
          "text": [
            "Epoch 1/40\n",
            "84/84 [==============================] - 2s 12ms/step - loss: 1.8091 - accuracy: 0.1783 - val_loss: 1.7918 - val_accuracy: 0.1667\n",
            "Epoch 2/40\n",
            "84/84 [==============================] - 1s 10ms/step - loss: 1.7834 - accuracy: 0.1994 - val_loss: 1.7546 - val_accuracy: 0.2426\n",
            "Epoch 3/40\n",
            "84/84 [==============================] - 1s 10ms/step - loss: 1.7146 - accuracy: 0.2640 - val_loss: 1.6826 - val_accuracy: 0.2783\n",
            "Epoch 4/40\n",
            "84/84 [==============================] - 1s 10ms/step - loss: 1.5173 - accuracy: 0.3888 - val_loss: 1.4228 - val_accuracy: 0.4256\n",
            "Epoch 5/40\n",
            "84/84 [==============================] - 1s 10ms/step - loss: 1.2465 - accuracy: 0.5117 - val_loss: 1.1734 - val_accuracy: 0.5670\n",
            "Epoch 6/40\n",
            "84/84 [==============================] - 1s 10ms/step - loss: 1.0508 - accuracy: 0.6047 - val_loss: 0.9251 - val_accuracy: 0.6875\n",
            "Epoch 7/40\n",
            "84/84 [==============================] - 1s 10ms/step - loss: 0.8411 - accuracy: 0.6928 - val_loss: 0.8602 - val_accuracy: 0.6935\n",
            "Epoch 8/40\n",
            "84/84 [==============================] - 1s 10ms/step - loss: 0.6983 - accuracy: 0.7375 - val_loss: 0.7081 - val_accuracy: 0.7664\n",
            "Epoch 9/40\n",
            "84/84 [==============================] - 1s 10ms/step - loss: 0.5781 - accuracy: 0.7970 - val_loss: 0.6332 - val_accuracy: 0.7827\n",
            "Epoch 10/40\n",
            "84/84 [==============================] - 1s 10ms/step - loss: 0.4802 - accuracy: 0.8346 - val_loss: 0.5898 - val_accuracy: 0.8036\n",
            "Epoch 11/40\n",
            "84/84 [==============================] - 1s 10ms/step - loss: 0.4015 - accuracy: 0.8582 - val_loss: 0.4812 - val_accuracy: 0.8348\n",
            "Epoch 12/40\n",
            "84/84 [==============================] - 1s 10ms/step - loss: 0.3193 - accuracy: 0.8893 - val_loss: 0.5297 - val_accuracy: 0.8155\n",
            "Epoch 13/40\n",
            "84/84 [==============================] - 1s 10ms/step - loss: 0.2999 - accuracy: 0.8923 - val_loss: 0.5630 - val_accuracy: 0.8214\n",
            "Epoch 14/40\n",
            "84/84 [==============================] - 1s 10ms/step - loss: 0.2705 - accuracy: 0.9090 - val_loss: 0.4635 - val_accuracy: 0.8408\n",
            "Epoch 15/40\n",
            "84/84 [==============================] - 1s 10ms/step - loss: 0.2415 - accuracy: 0.9153 - val_loss: 0.4494 - val_accuracy: 0.8423\n",
            "Epoch 16/40\n",
            "84/84 [==============================] - 1s 10ms/step - loss: 0.2075 - accuracy: 0.9290 - val_loss: 0.5324 - val_accuracy: 0.8080\n",
            "Epoch 17/40\n",
            "84/84 [==============================] - 1s 10ms/step - loss: 0.1590 - accuracy: 0.9457 - val_loss: 0.5282 - val_accuracy: 0.8438\n",
            "Epoch 18/40\n",
            "84/84 [==============================] - 1s 10ms/step - loss: 0.1683 - accuracy: 0.9400 - val_loss: 0.4594 - val_accuracy: 0.8527\n",
            "Epoch 19/40\n",
            "84/84 [==============================] - 1s 10ms/step - loss: 0.1279 - accuracy: 0.9562 - val_loss: 0.4051 - val_accuracy: 0.8646\n",
            "Epoch 20/40\n",
            "84/84 [==============================] - 1s 10ms/step - loss: 0.1109 - accuracy: 0.9663 - val_loss: 0.4444 - val_accuracy: 0.8571\n",
            "Epoch 21/40\n",
            "84/84 [==============================] - 1s 10ms/step - loss: 0.1326 - accuracy: 0.9511 - val_loss: 0.4432 - val_accuracy: 0.8631\n",
            "Epoch 22/40\n",
            "84/84 [==============================] - 1s 10ms/step - loss: 0.1052 - accuracy: 0.9650 - val_loss: 0.4211 - val_accuracy: 0.8705\n",
            "Epoch 23/40\n",
            "84/84 [==============================] - 1s 10ms/step - loss: 0.0817 - accuracy: 0.9746 - val_loss: 0.4595 - val_accuracy: 0.8542\n",
            "Epoch 24/40\n",
            "84/84 [==============================] - 1s 10ms/step - loss: 0.1086 - accuracy: 0.9633 - val_loss: 0.4123 - val_accuracy: 0.8824\n",
            "Epoch 25/40\n",
            "84/84 [==============================] - 1s 10ms/step - loss: 0.0715 - accuracy: 0.9752 - val_loss: 0.4399 - val_accuracy: 0.8690\n",
            "Epoch 26/40\n",
            "84/84 [==============================] - 1s 10ms/step - loss: 0.0971 - accuracy: 0.9648 - val_loss: 0.3743 - val_accuracy: 0.8824\n",
            "Epoch 27/40\n",
            "84/84 [==============================] - 1s 10ms/step - loss: 0.0718 - accuracy: 0.9775 - val_loss: 0.4408 - val_accuracy: 0.8795\n",
            "Epoch 28/40\n",
            "84/84 [==============================] - 1s 10ms/step - loss: 0.0835 - accuracy: 0.9690 - val_loss: 0.4876 - val_accuracy: 0.8690\n",
            "Epoch 29/40\n",
            "84/84 [==============================] - 1s 10ms/step - loss: 0.0996 - accuracy: 0.9667 - val_loss: 0.4404 - val_accuracy: 0.8661\n",
            "Epoch 30/40\n",
            "84/84 [==============================] - 1s 10ms/step - loss: 0.0653 - accuracy: 0.9799 - val_loss: 0.5239 - val_accuracy: 0.8780\n",
            "Epoch 31/40\n",
            "84/84 [==============================] - 1s 10ms/step - loss: 0.0946 - accuracy: 0.9696 - val_loss: 0.4429 - val_accuracy: 0.8780\n",
            "Epoch 32/40\n",
            "84/84 [==============================] - 1s 10ms/step - loss: 0.0553 - accuracy: 0.9782 - val_loss: 0.5393 - val_accuracy: 0.8690\n",
            "Epoch 33/40\n",
            "84/84 [==============================] - 1s 10ms/step - loss: 0.0601 - accuracy: 0.9782 - val_loss: 0.5025 - val_accuracy: 0.8586\n",
            "Epoch 34/40\n",
            "84/84 [==============================] - 1s 10ms/step - loss: 0.0915 - accuracy: 0.9730 - val_loss: 0.4234 - val_accuracy: 0.8869\n",
            "Epoch 35/40\n",
            "84/84 [==============================] - 1s 10ms/step - loss: 0.0508 - accuracy: 0.9839 - val_loss: 0.4987 - val_accuracy: 0.8824\n",
            "Epoch 36/40\n",
            "84/84 [==============================] - 1s 10ms/step - loss: 0.0393 - accuracy: 0.9876 - val_loss: 0.5118 - val_accuracy: 0.8765\n",
            "Epoch 37/40\n",
            "84/84 [==============================] - 1s 10ms/step - loss: 0.0908 - accuracy: 0.9644 - val_loss: 0.4076 - val_accuracy: 0.8795\n",
            "Epoch 38/40\n",
            "84/84 [==============================] - 1s 10ms/step - loss: 0.0373 - accuracy: 0.9865 - val_loss: 0.4816 - val_accuracy: 0.8810\n",
            "Epoch 39/40\n",
            "84/84 [==============================] - 1s 10ms/step - loss: 0.0820 - accuracy: 0.9728 - val_loss: 0.4689 - val_accuracy: 0.8765\n",
            "Epoch 40/40\n",
            "84/84 [==============================] - 1s 10ms/step - loss: 0.0593 - accuracy: 0.9793 - val_loss: 0.3991 - val_accuracy: 0.8780\n"
          ],
          "name": "stdout"
        }
      ]
    },
    {
      "cell_type": "code",
      "metadata": {
        "colab": {
          "base_uri": "https://localhost:8080/"
        },
        "id": "IkL7G3Ht_Iek",
        "outputId": "22855136-7af1-4533-ef37-c5fc5fd3ae48"
      },
      "source": [
        "results = F5model.evaluate(X_test,  y_test, verbose=2)"
      ],
      "execution_count": null,
      "outputs": [
        {
          "output_type": "stream",
          "text": [
            "27/27 - 0s - loss: 0.4024 - accuracy: 0.8857\n"
          ],
          "name": "stdout"
        }
      ]
    },
    {
      "cell_type": "code",
      "metadata": {
        "id": "9Igd0kge_KdN"
      },
      "source": [
        ""
      ],
      "execution_count": null,
      "outputs": []
    },
    {
      "cell_type": "code",
      "metadata": {
        "colab": {
          "base_uri": "https://localhost:8080/"
        },
        "id": "XqwTqLSVT3at",
        "outputId": "add3c7b0-ae5f-432f-95ac-5012902ff260"
      },
      "source": [
        "history = model.fit(X_train, y_train, epochs=40, validation_data=(X_val, y_val))"
      ],
      "execution_count": null,
      "outputs": [
        {
          "output_type": "stream",
          "text": [
            "Epoch 1/40\n",
            "79/79 [==============================] - 2s 14ms/step - loss: 1.7986 - accuracy: 0.1699 - val_loss: 1.7850 - val_accuracy: 0.2250\n",
            "Epoch 2/40\n",
            "79/79 [==============================] - 1s 11ms/step - loss: 1.7394 - accuracy: 0.2801 - val_loss: 1.7210 - val_accuracy: 0.2536\n",
            "Epoch 3/40\n",
            "79/79 [==============================] - 1s 11ms/step - loss: 1.5338 - accuracy: 0.3934 - val_loss: 1.4851 - val_accuracy: 0.3893\n",
            "Epoch 4/40\n",
            "79/79 [==============================] - 1s 11ms/step - loss: 1.3092 - accuracy: 0.4964 - val_loss: 1.2235 - val_accuracy: 0.5488\n",
            "Epoch 5/40\n",
            "79/79 [==============================] - 1s 11ms/step - loss: 1.1151 - accuracy: 0.5652 - val_loss: 1.0300 - val_accuracy: 0.6440\n",
            "Epoch 6/40\n",
            "79/79 [==============================] - 1s 11ms/step - loss: 0.9756 - accuracy: 0.6283 - val_loss: 0.8884 - val_accuracy: 0.6976\n",
            "Epoch 7/40\n",
            "79/79 [==============================] - 1s 11ms/step - loss: 0.8141 - accuracy: 0.6877 - val_loss: 0.8800 - val_accuracy: 0.6690\n",
            "Epoch 8/40\n",
            "79/79 [==============================] - 1s 11ms/step - loss: 0.7077 - accuracy: 0.7461 - val_loss: 0.7123 - val_accuracy: 0.7357\n",
            "Epoch 9/40\n",
            "79/79 [==============================] - 1s 11ms/step - loss: 0.6224 - accuracy: 0.7786 - val_loss: 0.6234 - val_accuracy: 0.7738\n",
            "Epoch 10/40\n",
            "79/79 [==============================] - 1s 11ms/step - loss: 0.5063 - accuracy: 0.8170 - val_loss: 0.5530 - val_accuracy: 0.7952\n",
            "Epoch 11/40\n",
            "79/79 [==============================] - 1s 11ms/step - loss: 0.4320 - accuracy: 0.8510 - val_loss: 0.4985 - val_accuracy: 0.8214\n",
            "Epoch 12/40\n",
            "79/79 [==============================] - 1s 11ms/step - loss: 0.3396 - accuracy: 0.8803 - val_loss: 0.5178 - val_accuracy: 0.8190\n",
            "Epoch 13/40\n",
            "79/79 [==============================] - 1s 11ms/step - loss: 0.3410 - accuracy: 0.8782 - val_loss: 0.4448 - val_accuracy: 0.8369\n",
            "Epoch 14/40\n",
            "79/79 [==============================] - 1s 11ms/step - loss: 0.2882 - accuracy: 0.9009 - val_loss: 0.4381 - val_accuracy: 0.8393\n",
            "Epoch 15/40\n",
            "79/79 [==============================] - 1s 11ms/step - loss: 0.2337 - accuracy: 0.9137 - val_loss: 0.4515 - val_accuracy: 0.8488\n",
            "Epoch 16/40\n",
            "79/79 [==============================] - 1s 11ms/step - loss: 0.2387 - accuracy: 0.9137 - val_loss: 0.3859 - val_accuracy: 0.8548\n",
            "Epoch 17/40\n",
            "79/79 [==============================] - 1s 11ms/step - loss: 0.1820 - accuracy: 0.9351 - val_loss: 0.4379 - val_accuracy: 0.8429\n",
            "Epoch 18/40\n",
            "79/79 [==============================] - 1s 11ms/step - loss: 0.2026 - accuracy: 0.9244 - val_loss: 0.4339 - val_accuracy: 0.8369\n",
            "Epoch 19/40\n",
            "79/79 [==============================] - 1s 11ms/step - loss: 0.1413 - accuracy: 0.9545 - val_loss: 0.3873 - val_accuracy: 0.8607\n",
            "Epoch 20/40\n",
            "79/79 [==============================] - 1s 11ms/step - loss: 0.1290 - accuracy: 0.9580 - val_loss: 0.4247 - val_accuracy: 0.8500\n",
            "Epoch 21/40\n",
            "79/79 [==============================] - 1s 11ms/step - loss: 0.1469 - accuracy: 0.9476 - val_loss: 0.4083 - val_accuracy: 0.8571\n",
            "Epoch 22/40\n",
            "79/79 [==============================] - 1s 11ms/step - loss: 0.1284 - accuracy: 0.9560 - val_loss: 0.4677 - val_accuracy: 0.8607\n",
            "Epoch 23/40\n",
            "79/79 [==============================] - 1s 11ms/step - loss: 0.1282 - accuracy: 0.9541 - val_loss: 0.4127 - val_accuracy: 0.8690\n",
            "Epoch 24/40\n",
            "79/79 [==============================] - 1s 11ms/step - loss: 0.1162 - accuracy: 0.9629 - val_loss: 0.4293 - val_accuracy: 0.8619\n",
            "Epoch 25/40\n",
            "79/79 [==============================] - 1s 11ms/step - loss: 0.1034 - accuracy: 0.9675 - val_loss: 0.4433 - val_accuracy: 0.8607\n",
            "Epoch 26/40\n",
            "79/79 [==============================] - 1s 11ms/step - loss: 0.0842 - accuracy: 0.9735 - val_loss: 0.4461 - val_accuracy: 0.8690\n",
            "Epoch 27/40\n",
            "79/79 [==============================] - 1s 11ms/step - loss: 0.0846 - accuracy: 0.9706 - val_loss: 0.3835 - val_accuracy: 0.8869\n",
            "Epoch 28/40\n",
            "79/79 [==============================] - 1s 11ms/step - loss: 0.0948 - accuracy: 0.9694 - val_loss: 0.4288 - val_accuracy: 0.8738\n",
            "Epoch 29/40\n",
            "79/79 [==============================] - 1s 11ms/step - loss: 0.1055 - accuracy: 0.9615 - val_loss: 0.4663 - val_accuracy: 0.8440\n",
            "Epoch 30/40\n",
            "79/79 [==============================] - 1s 11ms/step - loss: 0.0836 - accuracy: 0.9684 - val_loss: 0.3909 - val_accuracy: 0.8905\n",
            "Epoch 31/40\n",
            "79/79 [==============================] - 1s 11ms/step - loss: 0.0742 - accuracy: 0.9739 - val_loss: 0.3996 - val_accuracy: 0.8786\n",
            "Epoch 32/40\n",
            "79/79 [==============================] - 1s 11ms/step - loss: 0.0644 - accuracy: 0.9778 - val_loss: 0.4427 - val_accuracy: 0.8845\n",
            "Epoch 33/40\n",
            "79/79 [==============================] - 1s 11ms/step - loss: 0.0798 - accuracy: 0.9731 - val_loss: 0.4419 - val_accuracy: 0.8750\n",
            "Epoch 34/40\n",
            "79/79 [==============================] - 1s 11ms/step - loss: 0.0428 - accuracy: 0.9849 - val_loss: 0.4185 - val_accuracy: 0.8988\n",
            "Epoch 35/40\n",
            "79/79 [==============================] - 1s 11ms/step - loss: 0.0598 - accuracy: 0.9818 - val_loss: 0.4274 - val_accuracy: 0.8786\n",
            "Epoch 36/40\n",
            "79/79 [==============================] - 1s 11ms/step - loss: 0.0520 - accuracy: 0.9819 - val_loss: 0.4145 - val_accuracy: 0.8845\n",
            "Epoch 37/40\n",
            "79/79 [==============================] - 1s 11ms/step - loss: 0.0667 - accuracy: 0.9758 - val_loss: 0.3942 - val_accuracy: 0.8798\n",
            "Epoch 38/40\n",
            "79/79 [==============================] - 1s 11ms/step - loss: 0.0767 - accuracy: 0.9802 - val_loss: 0.3862 - val_accuracy: 0.8952\n",
            "Epoch 39/40\n",
            "79/79 [==============================] - 1s 11ms/step - loss: 0.0437 - accuracy: 0.9801 - val_loss: 0.4470 - val_accuracy: 0.8750\n",
            "Epoch 40/40\n",
            "79/79 [==============================] - 1s 11ms/step - loss: 0.0765 - accuracy: 0.9735 - val_loss: 0.4196 - val_accuracy: 0.8964\n"
          ],
          "name": "stdout"
        }
      ]
    },
    {
      "cell_type": "code",
      "metadata": {
        "colab": {
          "base_uri": "https://localhost:8080/"
        },
        "id": "bfjMJvLdlfSk",
        "outputId": "280bbf12-fe10-4227-8175-3770dd1dba57"
      },
      "source": [
        "results = model.evaluate(X_test,  y_test, verbose=2)"
      ],
      "execution_count": null,
      "outputs": [
        {
          "output_type": "stream",
          "text": [
            "27/27 - 0s - loss: 0.3622 - accuracy: 0.9202\n"
          ],
          "name": "stdout"
        }
      ]
    },
    {
      "cell_type": "markdown",
      "metadata": {
        "id": "CvpFQaRoXQg2"
      },
      "source": [
        "## Save The Model"
      ]
    },
    {
      "cell_type": "code",
      "metadata": {
        "id": "YVhmOUFWaQc6"
      },
      "source": [
        "model.save(path_img+'/BestModel.h5')\n",
        "save(path_img+'/X_train.npy', X_train)\n",
        "save(path_img+'/y_train.npy', y_train)\n",
        "save(path_img+'/X_val.npy', X_val)\n",
        "save(path_img+'/y_val.npy', y_val)\n",
        "save(path_img+'/X_test.npy', X_test)\n",
        "save(path_img+'/y_test.npy', y_test)"
      ],
      "execution_count": null,
      "outputs": []
    },
    {
      "cell_type": "markdown",
      "metadata": {
        "id": "BydqONdJ6I0p"
      },
      "source": [
        "## Plot The Training Phase"
      ]
    },
    {
      "cell_type": "code",
      "metadata": {
        "colab": {
          "base_uri": "https://localhost:8080/",
          "height": 295
        },
        "id": "nWj-bEaSjgA8",
        "outputId": "3922158d-811c-4d70-cbe5-64830caeadf6"
      },
      "source": [
        "import matplotlib.pyplot as plt\n",
        "\n",
        "plt.plot(history.history['accuracy'], label='Training Accuracy')\n",
        "plt.plot(history.history['val_accuracy'], label = 'Validation Accuracy')\n",
        "plt.xlabel('Epoch')\n",
        "plt.ylabel('Accuracy')\n",
        "plt.legend(loc='lower right')\n",
        "plt.title('Training and Validation Accuracy')\n",
        "plt.savefig(path_img+'/Accuracy.jpg', dpi=1200)"
      ],
      "execution_count": null,
      "outputs": [
        {
          "output_type": "display_data",
          "data": {
            "image/png": "[encoded data removed]",
            "text/plain": [
              "<Figure size 432x288 with 1 Axes>"
            ]
          },
          "metadata": {
            "tags": [],
            "needs_background": "light"
          }
        }
      ]
    },
    {
      "cell_type": "code",
      "metadata": {
        "id": "GuTUqvrNlYZI"
      },
      "source": [
        "class_labels = {0: 'Cut Shot', 1: 'Cover Drive', 2: 'Straight Drive', 3: 'Pull Shot', 4: 'Leg Glance', 5: 'Scoop Shot'}"
      ],
      "execution_count": null,
      "outputs": []
    },
    {
      "cell_type": "code",
      "metadata": {
        "colab": {
          "base_uri": "https://localhost:8080/",
          "height": 295
        },
        "id": "EPj75i7dlCRk",
        "outputId": "47a3d412-0878-4b86-f316-56ad8cdc9944"
      },
      "source": [
        "import matplotlib.pyplot as plt\n",
        "\n",
        "plt.plot(history.history['loss'], label='Training Loss')\n",
        "plt.plot(history.history['val_loss'], label = 'Validation Loss')\n",
        "plt.xlabel('Epoch')\n",
        "plt.ylabel('Loss')\n",
        "plt.legend(loc='upper right')\n",
        "plt.title('Training and Validation Loss')\n",
        "plt.savefig(path_img+'/Loss.jpg', dpi=1200)"
      ],
      "execution_count": null,
      "outputs": [
        {
          "output_type": "display_data",
          "data": {
            "image/png": "[encoded data removed]",
            "text/plain": [
              "<Figure size 432x288 with 1 Axes>"
            ]
          },
          "metadata": {
            "tags": [],
            "needs_background": "light"
          }
        }
      ]
    },
    {
      "cell_type": "markdown",
      "metadata": {
        "id": "7DDKq4O06P6Q"
      },
      "source": [
        "## Make Prediction"
      ]
    },
    {
      "cell_type": "code",
      "metadata": {
        "id": "ZTMivFSCjWVe"
      },
      "source": [
        "from sklearn.metrics import classification_report,accuracy_score, confusion_matrix\n",
        "\n",
        "y_pred = argmax(model.predict(X_test),axis = 1)"
      ],
      "execution_count": null,
      "outputs": []
    },
    {
      "cell_type": "code",
      "metadata": {
        "colab": {
          "base_uri": "https://localhost:8080/",
          "height": 314
        },
        "id": "mTxzxG-3kbLL",
        "outputId": "11fedd8f-4e53-4964-9a5a-b50eac070663"
      },
      "source": [
        "cr = classification_report(y_test,y_pred, target_names = [class_labels[i] for i in class_labels],output_dict = True)\n",
        "pd.DataFrame(cr).T"
      ],
      "execution_count": null,
      "outputs": [
        {
          "output_type": "execute_result",
          "data": {
            "text/html": [
              "<div>\n",
              "<style scoped>\n",
              "    .dataframe tbody tr th:only-of-type {\n",
              "        vertical-align: middle;\n",
              "    }\n",
              "\n",
              "    .dataframe tbody tr th {\n",
              "        vertical-align: top;\n",
              "    }\n",
              "\n",
              "    .dataframe thead th {\n",
              "        text-align: right;\n",
              "    }\n",
              "</style>\n",
              "<table border=\"1\" class=\"dataframe\">\n",
              "  <thead>\n",
              "    <tr style=\"text-align: right;\">\n",
              "      <th></th>\n",
              "      <th>precision</th>\n",
              "      <th>recall</th>\n",
              "      <th>f1-score</th>\n",
              "      <th>support</th>\n",
              "    </tr>\n",
              "  </thead>\n",
              "  <tbody>\n",
              "    <tr>\n",
              "      <th>Cut Shot</th>\n",
              "      <td>0.894366</td>\n",
              "      <td>0.907143</td>\n",
              "      <td>0.900709</td>\n",
              "      <td>140.000000</td>\n",
              "    </tr>\n",
              "    <tr>\n",
              "      <th>Cover Drive</th>\n",
              "      <td>0.913669</td>\n",
              "      <td>0.907143</td>\n",
              "      <td>0.910394</td>\n",
              "      <td>140.000000</td>\n",
              "    </tr>\n",
              "    <tr>\n",
              "      <th>Straight Drive</th>\n",
              "      <td>0.885135</td>\n",
              "      <td>0.935714</td>\n",
              "      <td>0.909722</td>\n",
              "      <td>140.000000</td>\n",
              "    </tr>\n",
              "    <tr>\n",
              "      <th>Pull Shot</th>\n",
              "      <td>0.935714</td>\n",
              "      <td>0.935714</td>\n",
              "      <td>0.935714</td>\n",
              "      <td>140.000000</td>\n",
              "    </tr>\n",
              "    <tr>\n",
              "      <th>Leg Glance</th>\n",
              "      <td>0.962406</td>\n",
              "      <td>0.914286</td>\n",
              "      <td>0.937729</td>\n",
              "      <td>140.000000</td>\n",
              "    </tr>\n",
              "    <tr>\n",
              "      <th>Scoop Shot</th>\n",
              "      <td>0.934783</td>\n",
              "      <td>0.921429</td>\n",
              "      <td>0.928058</td>\n",
              "      <td>140.000000</td>\n",
              "    </tr>\n",
              "    <tr>\n",
              "      <th>accuracy</th>\n",
              "      <td>0.920238</td>\n",
              "      <td>0.920238</td>\n",
              "      <td>0.920238</td>\n",
              "      <td>0.920238</td>\n",
              "    </tr>\n",
              "    <tr>\n",
              "      <th>macro avg</th>\n",
              "      <td>0.921012</td>\n",
              "      <td>0.920238</td>\n",
              "      <td>0.920388</td>\n",
              "      <td>840.000000</td>\n",
              "    </tr>\n",
              "    <tr>\n",
              "      <th>weighted avg</th>\n",
              "      <td>0.921012</td>\n",
              "      <td>0.920238</td>\n",
              "      <td>0.920388</td>\n",
              "      <td>840.000000</td>\n",
              "    </tr>\n",
              "  </tbody>\n",
              "</table>\n",
              "</div>"
            ],
            "text/plain": [
              "                precision    recall  f1-score     support\n",
              "Cut Shot         0.894366  0.907143  0.900709  140.000000\n",
              "Cover Drive      0.913669  0.907143  0.910394  140.000000\n",
              "Straight Drive   0.885135  0.935714  0.909722  140.000000\n",
              "Pull Shot        0.935714  0.935714  0.935714  140.000000\n",
              "Leg Glance       0.962406  0.914286  0.937729  140.000000\n",
              "Scoop Shot       0.934783  0.921429  0.928058  140.000000\n",
              "accuracy         0.920238  0.920238  0.920238    0.920238\n",
              "macro avg        0.921012  0.920238  0.920388  840.000000\n",
              "weighted avg     0.921012  0.920238  0.920388  840.000000"
            ]
          },
          "metadata": {
            "tags": []
          },
          "execution_count": 160
        }
      ]
    },
    {
      "cell_type": "code",
      "metadata": {
        "colab": {
          "base_uri": "https://localhost:8080/"
        },
        "id": "RuoiCo98msv-",
        "outputId": "200900e3-05be-47db-b63b-3ec8302a25bf"
      },
      "source": [
        "accuracy_score(y_test,y_pred)"
      ],
      "execution_count": null,
      "outputs": [
        {
          "output_type": "execute_result",
          "data": {
            "text/plain": [
              "0.9202380952380952"
            ]
          },
          "metadata": {
            "tags": []
          },
          "execution_count": 135
        }
      ]
    },
    {
      "cell_type": "code",
      "metadata": {
        "id": "1rEXQQR4zYET"
      },
      "source": [
        "cm = confusion_matrix(y_test,y_pred)"
      ],
      "execution_count": null,
      "outputs": []
    },
    {
      "cell_type": "code",
      "metadata": {
        "colab": {
          "base_uri": "https://localhost:8080/",
          "height": 225
        },
        "id": "cISUiXfrnQov",
        "outputId": "fc779000-f311-44fe-da81-d94d49b55afc"
      },
      "source": [
        "import pandas as pd\n",
        "\n",
        "cmdf = pd.DataFrame(cm)\n",
        "cmdf.columns = [class_labels[i] for i in cmdf.columns]\n",
        "cmdf.index = [class_labels[i] for i in cmdf.index]\n",
        "cmdf"
      ],
      "execution_count": null,
      "outputs": [
        {
          "output_type": "execute_result",
          "data": {
            "text/html": [
              "<div>\n",
              "<style scoped>\n",
              "    .dataframe tbody tr th:only-of-type {\n",
              "        vertical-align: middle;\n",
              "    }\n",
              "\n",
              "    .dataframe tbody tr th {\n",
              "        vertical-align: top;\n",
              "    }\n",
              "\n",
              "    .dataframe thead th {\n",
              "        text-align: right;\n",
              "    }\n",
              "</style>\n",
              "<table border=\"1\" class=\"dataframe\">\n",
              "  <thead>\n",
              "    <tr style=\"text-align: right;\">\n",
              "      <th></th>\n",
              "      <th>Cut Shot</th>\n",
              "      <th>Cover Drive</th>\n",
              "      <th>Straight Drive</th>\n",
              "      <th>Pull Shot</th>\n",
              "      <th>Leg Glance</th>\n",
              "      <th>Scoop Shot</th>\n",
              "    </tr>\n",
              "  </thead>\n",
              "  <tbody>\n",
              "    <tr>\n",
              "      <th>Cut Shot</th>\n",
              "      <td>127</td>\n",
              "      <td>4</td>\n",
              "      <td>5</td>\n",
              "      <td>2</td>\n",
              "      <td>1</td>\n",
              "      <td>1</td>\n",
              "    </tr>\n",
              "    <tr>\n",
              "      <th>Cover Drive</th>\n",
              "      <td>5</td>\n",
              "      <td>127</td>\n",
              "      <td>4</td>\n",
              "      <td>1</td>\n",
              "      <td>0</td>\n",
              "      <td>3</td>\n",
              "    </tr>\n",
              "    <tr>\n",
              "      <th>Straight Drive</th>\n",
              "      <td>2</td>\n",
              "      <td>3</td>\n",
              "      <td>131</td>\n",
              "      <td>2</td>\n",
              "      <td>1</td>\n",
              "      <td>1</td>\n",
              "    </tr>\n",
              "    <tr>\n",
              "      <th>Pull Shot</th>\n",
              "      <td>2</td>\n",
              "      <td>2</td>\n",
              "      <td>2</td>\n",
              "      <td>131</td>\n",
              "      <td>0</td>\n",
              "      <td>3</td>\n",
              "    </tr>\n",
              "    <tr>\n",
              "      <th>Leg Glance</th>\n",
              "      <td>1</td>\n",
              "      <td>3</td>\n",
              "      <td>4</td>\n",
              "      <td>3</td>\n",
              "      <td>128</td>\n",
              "      <td>1</td>\n",
              "    </tr>\n",
              "    <tr>\n",
              "      <th>Scoop Shot</th>\n",
              "      <td>5</td>\n",
              "      <td>0</td>\n",
              "      <td>2</td>\n",
              "      <td>1</td>\n",
              "      <td>3</td>\n",
              "      <td>129</td>\n",
              "    </tr>\n",
              "  </tbody>\n",
              "</table>\n",
              "</div>"
            ],
            "text/plain": [
              "                Cut Shot  Cover Drive  ...  Leg Glance  Scoop Shot\n",
              "Cut Shot             127            4  ...           1           1\n",
              "Cover Drive            5          127  ...           0           3\n",
              "Straight Drive         2            3  ...           1           1\n",
              "Pull Shot              2            2  ...           0           3\n",
              "Leg Glance             1            3  ...         128           1\n",
              "Scoop Shot             5            0  ...           3         129\n",
              "\n",
              "[6 rows x 6 columns]"
            ]
          },
          "metadata": {
            "tags": []
          },
          "execution_count": 162
        }
      ]
    },
    {
      "cell_type": "code",
      "metadata": {
        "colab": {
          "base_uri": "https://localhost:8080/",
          "height": 355
        },
        "id": "-5b1tx_HojZ9",
        "outputId": "9ea7b6f3-4162-4fa6-f8f1-842e054045d9"
      },
      "source": [
        "import seaborn as sns\n",
        "\n",
        "sns.heatmap(cmdf,annot=True,cmap='Oranges', fmt='g')\n",
        "plt.xlabel('Predicted Labels')\n",
        "plt.ylabel('True Labels')\n",
        "plt.title('Confusion Matrix')\n",
        "plt.savefig(path_img+'/Confusion Matrix.jpg', dpi=1200,bbox_inches =\"tight\")\n",
        "plt.show()"
      ],
      "execution_count": null,
      "outputs": [
        {
          "output_type": "display_data",
          "data": {
            "image/png": "[encoded data removed]",
            "text/plain": [
              "<Figure size 432x288 with 2 Axes>"
            ]
          },
          "metadata": {
            "tags": [],
            "needs_background": "light"
          }
        }
      ]
    },
    {
      "cell_type": "code",
      "metadata": {
        "id": "PJIBk4wJzeFq"
      },
      "source": [
        "cmn = cm/cm.astype(float).sum(axis=1)"
      ],
      "execution_count": null,
      "outputs": []
    },
    {
      "cell_type": "code",
      "metadata": {
        "colab": {
          "base_uri": "https://localhost:8080/",
          "height": 225
        },
        "id": "66D7cwf5zyqR",
        "outputId": "9676f302-6d2b-4d8e-8da4-0e700dd46979"
      },
      "source": [
        "import pandas as pd\n",
        "\n",
        "cmndf = pd.DataFrame(cmn)\n",
        "cmndf.columns = [class_labels[i] for i in cmndf.columns]\n",
        "cmndf.index = [class_labels[i] for i in cmndf.index]\n",
        "cmndf"
      ],
      "execution_count": null,
      "outputs": [
        {
          "output_type": "execute_result",
          "data": {
            "text/html": [
              "<div>\n",
              "<style scoped>\n",
              "    .dataframe tbody tr th:only-of-type {\n",
              "        vertical-align: middle;\n",
              "    }\n",
              "\n",
              "    .dataframe tbody tr th {\n",
              "        vertical-align: top;\n",
              "    }\n",
              "\n",
              "    .dataframe thead th {\n",
              "        text-align: right;\n",
              "    }\n",
              "</style>\n",
              "<table border=\"1\" class=\"dataframe\">\n",
              "  <thead>\n",
              "    <tr style=\"text-align: right;\">\n",
              "      <th></th>\n",
              "      <th>Cut Shot</th>\n",
              "      <th>Cover Drive</th>\n",
              "      <th>Straight Drive</th>\n",
              "      <th>Pull Shot</th>\n",
              "      <th>Leg Glance</th>\n",
              "      <th>Scoop Shot</th>\n",
              "    </tr>\n",
              "  </thead>\n",
              "  <tbody>\n",
              "    <tr>\n",
              "      <th>Cut Shot</th>\n",
              "      <td>0.907143</td>\n",
              "      <td>0.028571</td>\n",
              "      <td>0.035714</td>\n",
              "      <td>0.014286</td>\n",
              "      <td>0.007143</td>\n",
              "      <td>0.007143</td>\n",
              "    </tr>\n",
              "    <tr>\n",
              "      <th>Cover Drive</th>\n",
              "      <td>0.035714</td>\n",
              "      <td>0.907143</td>\n",
              "      <td>0.028571</td>\n",
              "      <td>0.007143</td>\n",
              "      <td>0.000000</td>\n",
              "      <td>0.021429</td>\n",
              "    </tr>\n",
              "    <tr>\n",
              "      <th>Straight Drive</th>\n",
              "      <td>0.014286</td>\n",
              "      <td>0.021429</td>\n",
              "      <td>0.935714</td>\n",
              "      <td>0.014286</td>\n",
              "      <td>0.007143</td>\n",
              "      <td>0.007143</td>\n",
              "    </tr>\n",
              "    <tr>\n",
              "      <th>Pull Shot</th>\n",
              "      <td>0.014286</td>\n",
              "      <td>0.014286</td>\n",
              "      <td>0.014286</td>\n",
              "      <td>0.935714</td>\n",
              "      <td>0.000000</td>\n",
              "      <td>0.021429</td>\n",
              "    </tr>\n",
              "    <tr>\n",
              "      <th>Leg Glance</th>\n",
              "      <td>0.007143</td>\n",
              "      <td>0.021429</td>\n",
              "      <td>0.028571</td>\n",
              "      <td>0.021429</td>\n",
              "      <td>0.914286</td>\n",
              "      <td>0.007143</td>\n",
              "    </tr>\n",
              "    <tr>\n",
              "      <th>Scoop Shot</th>\n",
              "      <td>0.035714</td>\n",
              "      <td>0.000000</td>\n",
              "      <td>0.014286</td>\n",
              "      <td>0.007143</td>\n",
              "      <td>0.021429</td>\n",
              "      <td>0.921429</td>\n",
              "    </tr>\n",
              "  </tbody>\n",
              "</table>\n",
              "</div>"
            ],
            "text/plain": [
              "                Cut Shot  Cover Drive  ...  Leg Glance  Scoop Shot\n",
              "Cut Shot        0.907143     0.028571  ...    0.007143    0.007143\n",
              "Cover Drive     0.035714     0.907143  ...    0.000000    0.021429\n",
              "Straight Drive  0.014286     0.021429  ...    0.007143    0.007143\n",
              "Pull Shot       0.014286     0.014286  ...    0.000000    0.021429\n",
              "Leg Glance      0.007143     0.021429  ...    0.914286    0.007143\n",
              "Scoop Shot      0.035714     0.000000  ...    0.021429    0.921429\n",
              "\n",
              "[6 rows x 6 columns]"
            ]
          },
          "metadata": {
            "tags": []
          },
          "execution_count": 140
        }
      ]
    },
    {
      "cell_type": "code",
      "metadata": {
        "colab": {
          "base_uri": "https://localhost:8080/",
          "height": 355
        },
        "id": "0gpCQI9zyMUL",
        "outputId": "7badb8e9-977b-4070-d847-1c56130964b3"
      },
      "source": [
        "import seaborn as sns\n",
        "\n",
        "sns.heatmap(cmndf,annot=True,cmap='Oranges', fmt='.2g')\n",
        "plt.xlabel('Predicted Labels')\n",
        "plt.ylabel('True Labels')\n",
        "plt.title('Normalised Confusion Matrix')\n",
        "plt.savefig(path_img+'/Normalised Confusion Matrix.jpg', dpi=1200,bbox_inches =\"tight\")\n",
        "plt.show()"
      ],
      "execution_count": null,
      "outputs": [
        {
          "output_type": "display_data",
          "data": {
            "image/png": "[encoded data removed]",
            "text/plain": [
              "<Figure size 432x288 with 2 Axes>"
            ]
          },
          "metadata": {
            "tags": [],
            "needs_background": "light"
          }
        }
      ]
    },
    {
      "cell_type": "markdown",
      "metadata": {
        "id": "cg56kx6c6W6i"
      },
      "source": [
        "## Load Pre-Trained Model remove output layer and Train SVM on extracted features"
      ]
    },
    {
      "cell_type": "code",
      "metadata": {
        "colab": {
          "base_uri": "https://localhost:8080/"
        },
        "id": "KaT2D1zPrtgx",
        "outputId": "611a26ed-1af0-448d-83f2-aa3ea296f7e1"
      },
      "source": [
        "m1 = keras.models.load_model(path_img+'/BestModel.h5')\n",
        "res = m1.evaluate(X_test, y_test)"
      ],
      "execution_count": null,
      "outputs": [
        {
          "output_type": "stream",
          "text": [
            "27/27 [==============================] - 0s 6ms/step - loss: 0.3622 - accuracy: 0.9202\n"
          ],
          "name": "stdout"
        }
      ]
    },
    {
      "cell_type": "code",
      "metadata": {
        "id": "Ae5x2ondsFua"
      },
      "source": [
        "m1.pop()\n",
        "\n",
        "features_train = m1.predict(X_train)\n",
        "features_test = m1.predict(X_test)"
      ],
      "execution_count": null,
      "outputs": []
    },
    {
      "cell_type": "code",
      "metadata": {
        "id": "Jn1QlZkssmVP"
      },
      "source": [
        "from sklearn.svm import SVC\n",
        "from sklearn.metrics import accuracy_score\n",
        "\n",
        "suppvm = SVC()\n",
        "suppvm.fit(features_train, y_train)\n",
        "y_pred1 = suppvm.predict(features_test)"
      ],
      "execution_count": null,
      "outputs": []
    },
    {
      "cell_type": "markdown",
      "metadata": {
        "id": "oWTHbKiM6kzG"
      },
      "source": [
        "## Classification Reports"
      ]
    },
    {
      "cell_type": "code",
      "metadata": {
        "colab": {
          "base_uri": "https://localhost:8080/"
        },
        "id": "5NngDRrlsPAa",
        "outputId": "5f644bd6-6833-4f49-c973-5426e1bd111e"
      },
      "source": [
        "accuracy_score(y_test,y_pred1)"
      ],
      "execution_count": null,
      "outputs": [
        {
          "output_type": "execute_result",
          "data": {
            "text/plain": [
              "0.9130952380952381"
            ]
          },
          "metadata": {
            "tags": []
          },
          "execution_count": 163
        }
      ]
    },
    {
      "cell_type": "code",
      "metadata": {
        "colab": {
          "base_uri": "https://localhost:8080/",
          "height": 314
        },
        "id": "V8XJLFHF1-bp",
        "outputId": "f12186a1-7897-4f8f-f1fa-e053dc5b6c22"
      },
      "source": [
        "crs = classification_report(y_test,y_pred1, target_names = [class_labels[i] for i in class_labels],output_dict = True)\n",
        "pd.DataFrame(crs).T"
      ],
      "execution_count": null,
      "outputs": [
        {
          "output_type": "execute_result",
          "data": {
            "text/html": [
              "<div>\n",
              "<style scoped>\n",
              "    .dataframe tbody tr th:only-of-type {\n",
              "        vertical-align: middle;\n",
              "    }\n",
              "\n",
              "    .dataframe tbody tr th {\n",
              "        vertical-align: top;\n",
              "    }\n",
              "\n",
              "    .dataframe thead th {\n",
              "        text-align: right;\n",
              "    }\n",
              "</style>\n",
              "<table border=\"1\" class=\"dataframe\">\n",
              "  <thead>\n",
              "    <tr style=\"text-align: right;\">\n",
              "      <th></th>\n",
              "      <th>precision</th>\n",
              "      <th>recall</th>\n",
              "      <th>f1-score</th>\n",
              "      <th>support</th>\n",
              "    </tr>\n",
              "  </thead>\n",
              "  <tbody>\n",
              "    <tr>\n",
              "      <th>Cut Shot</th>\n",
              "      <td>0.912409</td>\n",
              "      <td>0.892857</td>\n",
              "      <td>0.902527</td>\n",
              "      <td>140.000000</td>\n",
              "    </tr>\n",
              "    <tr>\n",
              "      <th>Cover Drive</th>\n",
              "      <td>0.863946</td>\n",
              "      <td>0.907143</td>\n",
              "      <td>0.885017</td>\n",
              "      <td>140.000000</td>\n",
              "    </tr>\n",
              "    <tr>\n",
              "      <th>Straight Drive</th>\n",
              "      <td>0.919708</td>\n",
              "      <td>0.900000</td>\n",
              "      <td>0.909747</td>\n",
              "      <td>140.000000</td>\n",
              "    </tr>\n",
              "    <tr>\n",
              "      <th>Pull Shot</th>\n",
              "      <td>0.910959</td>\n",
              "      <td>0.950000</td>\n",
              "      <td>0.930070</td>\n",
              "      <td>140.000000</td>\n",
              "    </tr>\n",
              "    <tr>\n",
              "      <th>Leg Glance</th>\n",
              "      <td>0.961538</td>\n",
              "      <td>0.892857</td>\n",
              "      <td>0.925926</td>\n",
              "      <td>140.000000</td>\n",
              "    </tr>\n",
              "    <tr>\n",
              "      <th>Scoop Shot</th>\n",
              "      <td>0.916084</td>\n",
              "      <td>0.935714</td>\n",
              "      <td>0.925795</td>\n",
              "      <td>140.000000</td>\n",
              "    </tr>\n",
              "    <tr>\n",
              "      <th>accuracy</th>\n",
              "      <td>0.913095</td>\n",
              "      <td>0.913095</td>\n",
              "      <td>0.913095</td>\n",
              "      <td>0.913095</td>\n",
              "    </tr>\n",
              "    <tr>\n",
              "      <th>macro avg</th>\n",
              "      <td>0.914107</td>\n",
              "      <td>0.913095</td>\n",
              "      <td>0.913180</td>\n",
              "      <td>840.000000</td>\n",
              "    </tr>\n",
              "    <tr>\n",
              "      <th>weighted avg</th>\n",
              "      <td>0.914107</td>\n",
              "      <td>0.913095</td>\n",
              "      <td>0.913180</td>\n",
              "      <td>840.000000</td>\n",
              "    </tr>\n",
              "  </tbody>\n",
              "</table>\n",
              "</div>"
            ],
            "text/plain": [
              "                precision    recall  f1-score     support\n",
              "Cut Shot         0.912409  0.892857  0.902527  140.000000\n",
              "Cover Drive      0.863946  0.907143  0.885017  140.000000\n",
              "Straight Drive   0.919708  0.900000  0.909747  140.000000\n",
              "Pull Shot        0.910959  0.950000  0.930070  140.000000\n",
              "Leg Glance       0.961538  0.892857  0.925926  140.000000\n",
              "Scoop Shot       0.916084  0.935714  0.925795  140.000000\n",
              "accuracy         0.913095  0.913095  0.913095    0.913095\n",
              "macro avg        0.914107  0.913095  0.913180  840.000000\n",
              "weighted avg     0.914107  0.913095  0.913180  840.000000"
            ]
          },
          "metadata": {
            "tags": []
          },
          "execution_count": 164
        }
      ]
    },
    {
      "cell_type": "code",
      "metadata": {
        "id": "H24ZO5IR2OKm"
      },
      "source": [
        "cms = confusion_matrix(y_test,y_pred1)"
      ],
      "execution_count": null,
      "outputs": []
    },
    {
      "cell_type": "code",
      "metadata": {
        "colab": {
          "base_uri": "https://localhost:8080/",
          "height": 225
        },
        "id": "4NFPp-WB2UOQ",
        "outputId": "1933e35d-0680-4d93-c861-0dfd25ef0c14"
      },
      "source": [
        "import pandas as pd\n",
        "\n",
        "cmsdf = pd.DataFrame(cms)\n",
        "cmsdf.columns = [class_labels[i] for i in cmsdf.columns]\n",
        "cmsdf.index = [class_labels[i] for i in cmsdf.index]\n",
        "cmsdf"
      ],
      "execution_count": null,
      "outputs": [
        {
          "output_type": "execute_result",
          "data": {
            "text/html": [
              "<div>\n",
              "<style scoped>\n",
              "    .dataframe tbody tr th:only-of-type {\n",
              "        vertical-align: middle;\n",
              "    }\n",
              "\n",
              "    .dataframe tbody tr th {\n",
              "        vertical-align: top;\n",
              "    }\n",
              "\n",
              "    .dataframe thead th {\n",
              "        text-align: right;\n",
              "    }\n",
              "</style>\n",
              "<table border=\"1\" class=\"dataframe\">\n",
              "  <thead>\n",
              "    <tr style=\"text-align: right;\">\n",
              "      <th></th>\n",
              "      <th>Cut Shot</th>\n",
              "      <th>Cover Drive</th>\n",
              "      <th>Straight Drive</th>\n",
              "      <th>Pull Shot</th>\n",
              "      <th>Leg Glance</th>\n",
              "      <th>Scoop Shot</th>\n",
              "    </tr>\n",
              "  </thead>\n",
              "  <tbody>\n",
              "    <tr>\n",
              "      <th>Cut Shot</th>\n",
              "      <td>125</td>\n",
              "      <td>6</td>\n",
              "      <td>3</td>\n",
              "      <td>4</td>\n",
              "      <td>1</td>\n",
              "      <td>1</td>\n",
              "    </tr>\n",
              "    <tr>\n",
              "      <th>Cover Drive</th>\n",
              "      <td>4</td>\n",
              "      <td>127</td>\n",
              "      <td>3</td>\n",
              "      <td>1</td>\n",
              "      <td>0</td>\n",
              "      <td>5</td>\n",
              "    </tr>\n",
              "    <tr>\n",
              "      <th>Straight Drive</th>\n",
              "      <td>2</td>\n",
              "      <td>5</td>\n",
              "      <td>126</td>\n",
              "      <td>5</td>\n",
              "      <td>1</td>\n",
              "      <td>1</td>\n",
              "    </tr>\n",
              "    <tr>\n",
              "      <th>Pull Shot</th>\n",
              "      <td>0</td>\n",
              "      <td>2</td>\n",
              "      <td>1</td>\n",
              "      <td>133</td>\n",
              "      <td>0</td>\n",
              "      <td>4</td>\n",
              "    </tr>\n",
              "    <tr>\n",
              "      <th>Leg Glance</th>\n",
              "      <td>1</td>\n",
              "      <td>7</td>\n",
              "      <td>4</td>\n",
              "      <td>2</td>\n",
              "      <td>125</td>\n",
              "      <td>1</td>\n",
              "    </tr>\n",
              "    <tr>\n",
              "      <th>Scoop Shot</th>\n",
              "      <td>5</td>\n",
              "      <td>0</td>\n",
              "      <td>0</td>\n",
              "      <td>1</td>\n",
              "      <td>3</td>\n",
              "      <td>131</td>\n",
              "    </tr>\n",
              "  </tbody>\n",
              "</table>\n",
              "</div>"
            ],
            "text/plain": [
              "                Cut Shot  Cover Drive  ...  Leg Glance  Scoop Shot\n",
              "Cut Shot             125            6  ...           1           1\n",
              "Cover Drive            4          127  ...           0           5\n",
              "Straight Drive         2            5  ...           1           1\n",
              "Pull Shot              0            2  ...           0           4\n",
              "Leg Glance             1            7  ...         125           1\n",
              "Scoop Shot             5            0  ...           3         131\n",
              "\n",
              "[6 rows x 6 columns]"
            ]
          },
          "metadata": {
            "tags": []
          },
          "execution_count": 166
        }
      ]
    },
    {
      "cell_type": "code",
      "metadata": {
        "colab": {
          "base_uri": "https://localhost:8080/",
          "height": 355
        },
        "id": "Xcv32JLK2ZOm",
        "outputId": "7fbff85f-d807-498c-ad9c-ae8f170628ef"
      },
      "source": [
        "import seaborn as sns\n",
        "\n",
        "sns.heatmap(cmsdf,annot=True,cmap='Oranges', fmt='g')\n",
        "plt.xlabel('Predicted Labels')\n",
        "plt.ylabel('True Labels')\n",
        "plt.title('Confusion Matrix')\n",
        "plt.savefig(path_img+'/Confusion Matrix SVM.jpg', dpi=1200,bbox_inches =\"tight\")\n",
        "plt.show()"
      ],
      "execution_count": null,
      "outputs": [
        {
          "output_type": "display_data",
          "data": {
            "image/png": "[encoded data removed]",
            "text/plain": [
              "<Figure size 432x288 with 2 Axes>"
            ]
          },
          "metadata": {
            "tags": [],
            "needs_background": "light"
          }
        }
      ]
    },
    {
      "cell_type": "code",
      "metadata": {
        "id": "5pO-feRN2sQw"
      },
      "source": [
        "cmns = cms/cms.astype(float).sum(axis=1)"
      ],
      "execution_count": null,
      "outputs": []
    },
    {
      "cell_type": "code",
      "metadata": {
        "colab": {
          "base_uri": "https://localhost:8080/",
          "height": 225
        },
        "id": "7lsgqJGw2yRS",
        "outputId": "55a8a767-3dd9-442e-8c8f-4909fadc5028"
      },
      "source": [
        "import pandas as pd\n",
        "\n",
        "cmnsdf = pd.DataFrame(cmns)\n",
        "cmnsdf.columns = [class_labels[i] for i in cmnsdf.columns]\n",
        "cmnsdf.index = [class_labels[i] for i in cmnsdf.index]\n",
        "cmnsdf"
      ],
      "execution_count": null,
      "outputs": [
        {
          "output_type": "execute_result",
          "data": {
            "text/html": [
              "<div>\n",
              "<style scoped>\n",
              "    .dataframe tbody tr th:only-of-type {\n",
              "        vertical-align: middle;\n",
              "    }\n",
              "\n",
              "    .dataframe tbody tr th {\n",
              "        vertical-align: top;\n",
              "    }\n",
              "\n",
              "    .dataframe thead th {\n",
              "        text-align: right;\n",
              "    }\n",
              "</style>\n",
              "<table border=\"1\" class=\"dataframe\">\n",
              "  <thead>\n",
              "    <tr style=\"text-align: right;\">\n",
              "      <th></th>\n",
              "      <th>Cut Shot</th>\n",
              "      <th>Cover Drive</th>\n",
              "      <th>Straight Drive</th>\n",
              "      <th>Pull Shot</th>\n",
              "      <th>Leg Glance</th>\n",
              "      <th>Scoop Shot</th>\n",
              "    </tr>\n",
              "  </thead>\n",
              "  <tbody>\n",
              "    <tr>\n",
              "      <th>Cut Shot</th>\n",
              "      <td>0.892857</td>\n",
              "      <td>0.042857</td>\n",
              "      <td>0.021429</td>\n",
              "      <td>0.028571</td>\n",
              "      <td>0.007143</td>\n",
              "      <td>0.007143</td>\n",
              "    </tr>\n",
              "    <tr>\n",
              "      <th>Cover Drive</th>\n",
              "      <td>0.028571</td>\n",
              "      <td>0.907143</td>\n",
              "      <td>0.021429</td>\n",
              "      <td>0.007143</td>\n",
              "      <td>0.000000</td>\n",
              "      <td>0.035714</td>\n",
              "    </tr>\n",
              "    <tr>\n",
              "      <th>Straight Drive</th>\n",
              "      <td>0.014286</td>\n",
              "      <td>0.035714</td>\n",
              "      <td>0.900000</td>\n",
              "      <td>0.035714</td>\n",
              "      <td>0.007143</td>\n",
              "      <td>0.007143</td>\n",
              "    </tr>\n",
              "    <tr>\n",
              "      <th>Pull Shot</th>\n",
              "      <td>0.000000</td>\n",
              "      <td>0.014286</td>\n",
              "      <td>0.007143</td>\n",
              "      <td>0.950000</td>\n",
              "      <td>0.000000</td>\n",
              "      <td>0.028571</td>\n",
              "    </tr>\n",
              "    <tr>\n",
              "      <th>Leg Glance</th>\n",
              "      <td>0.007143</td>\n",
              "      <td>0.050000</td>\n",
              "      <td>0.028571</td>\n",
              "      <td>0.014286</td>\n",
              "      <td>0.892857</td>\n",
              "      <td>0.007143</td>\n",
              "    </tr>\n",
              "    <tr>\n",
              "      <th>Scoop Shot</th>\n",
              "      <td>0.035714</td>\n",
              "      <td>0.000000</td>\n",
              "      <td>0.000000</td>\n",
              "      <td>0.007143</td>\n",
              "      <td>0.021429</td>\n",
              "      <td>0.935714</td>\n",
              "    </tr>\n",
              "  </tbody>\n",
              "</table>\n",
              "</div>"
            ],
            "text/plain": [
              "                Cut Shot  Cover Drive  ...  Leg Glance  Scoop Shot\n",
              "Cut Shot        0.892857     0.042857  ...    0.007143    0.007143\n",
              "Cover Drive     0.028571     0.907143  ...    0.000000    0.035714\n",
              "Straight Drive  0.014286     0.035714  ...    0.007143    0.007143\n",
              "Pull Shot       0.000000     0.014286  ...    0.000000    0.028571\n",
              "Leg Glance      0.007143     0.050000  ...    0.892857    0.007143\n",
              "Scoop Shot      0.035714     0.000000  ...    0.021429    0.935714\n",
              "\n",
              "[6 rows x 6 columns]"
            ]
          },
          "metadata": {
            "tags": []
          },
          "execution_count": 156
        }
      ]
    },
    {
      "cell_type": "code",
      "metadata": {
        "colab": {
          "base_uri": "https://localhost:8080/",
          "height": 355
        },
        "id": "191W4A8n25fZ",
        "outputId": "90c15f19-00e5-43ab-f922-e5b1ceaac38f"
      },
      "source": [
        "import seaborn as sns\n",
        "\n",
        "sns.heatmap(cmnsdf,annot=True,cmap='Oranges', fmt='.2g')\n",
        "plt.xlabel('Predicted Labels')\n",
        "plt.ylabel('True Labels')\n",
        "plt.title('Normalised Confusion Matrix')\n",
        "plt.savefig(path_img+'/Normalised Confusion Matrix SVM.jpg', dpi=1200,bbox_inches =\"tight\")\n",
        "plt.show()"
      ],
      "execution_count": null,
      "outputs": [
        {
          "output_type": "display_data",
          "data": {
            "image/png": "[encoded data removed]",
            "text/plain": [
              "<Figure size 432x288 with 2 Axes>"
            ]
          },
          "metadata": {
            "tags": [],
            "needs_background": "light"
          }
        }
      ]
    }
  ]
}